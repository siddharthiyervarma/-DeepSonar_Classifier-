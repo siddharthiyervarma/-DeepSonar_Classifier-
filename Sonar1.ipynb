{
  "cells": [
    {
      "cell_type": "markdown",
      "metadata": {
        "id": "hKlep7YnnVCK"
      },
      "source": [
        "This is a dataset that describes sonar chirp returns bouncing off different services. The 60 input variables are the strength of the returns at different angles. It is a **binary classification problem** that requires a model to differentiate rocks from metal cylinders.\n"
      ]
    },
    {
      "cell_type": "code",
      "execution_count": 1,
      "metadata": {
        "id": "HX1fKR9InVCO"
      },
      "outputs": [],
      "source": [
        "import numpy as np\n",
        "import pandas as pd"
      ]
    },
    {
      "cell_type": "code",
      "execution_count": 2,
      "metadata": {
        "colab": {
          "base_uri": "https://localhost:8080/",
          "height": 300
        },
        "id": "Ml25yo2AnVCQ",
        "outputId": "cfade9c6-941b-40c3-a80c-de26d4429c0d"
      },
      "outputs": [
        {
          "data": {
            "text/html": [
              "<div>\n",
              "<style scoped>\n",
              "    .dataframe tbody tr th:only-of-type {\n",
              "        vertical-align: middle;\n",
              "    }\n",
              "\n",
              "    .dataframe tbody tr th {\n",
              "        vertical-align: top;\n",
              "    }\n",
              "\n",
              "    .dataframe thead th {\n",
              "        text-align: right;\n",
              "    }\n",
              "</style>\n",
              "<table border=\"1\" class=\"dataframe\">\n",
              "  <thead>\n",
              "    <tr style=\"text-align: right;\">\n",
              "      <th></th>\n",
              "      <th>0</th>\n",
              "      <th>1</th>\n",
              "      <th>2</th>\n",
              "      <th>3</th>\n",
              "      <th>4</th>\n",
              "      <th>5</th>\n",
              "      <th>6</th>\n",
              "      <th>7</th>\n",
              "      <th>8</th>\n",
              "      <th>9</th>\n",
              "      <th>...</th>\n",
              "      <th>51</th>\n",
              "      <th>52</th>\n",
              "      <th>53</th>\n",
              "      <th>54</th>\n",
              "      <th>55</th>\n",
              "      <th>56</th>\n",
              "      <th>57</th>\n",
              "      <th>58</th>\n",
              "      <th>59</th>\n",
              "      <th>60</th>\n",
              "    </tr>\n",
              "  </thead>\n",
              "  <tbody>\n",
              "    <tr>\n",
              "      <th>86</th>\n",
              "      <td>0.0188</td>\n",
              "      <td>0.0370</td>\n",
              "      <td>0.0953</td>\n",
              "      <td>0.0824</td>\n",
              "      <td>0.0249</td>\n",
              "      <td>0.0488</td>\n",
              "      <td>0.1424</td>\n",
              "      <td>0.1972</td>\n",
              "      <td>0.1873</td>\n",
              "      <td>0.1806</td>\n",
              "      <td>...</td>\n",
              "      <td>0.0093</td>\n",
              "      <td>0.0033</td>\n",
              "      <td>0.0113</td>\n",
              "      <td>0.0030</td>\n",
              "      <td>0.0057</td>\n",
              "      <td>0.0090</td>\n",
              "      <td>0.0057</td>\n",
              "      <td>0.0068</td>\n",
              "      <td>0.0024</td>\n",
              "      <td>Rock</td>\n",
              "    </tr>\n",
              "    <tr>\n",
              "      <th>36</th>\n",
              "      <td>0.0094</td>\n",
              "      <td>0.0166</td>\n",
              "      <td>0.0398</td>\n",
              "      <td>0.0359</td>\n",
              "      <td>0.0681</td>\n",
              "      <td>0.0706</td>\n",
              "      <td>0.1020</td>\n",
              "      <td>0.0893</td>\n",
              "      <td>0.0381</td>\n",
              "      <td>0.1328</td>\n",
              "      <td>...</td>\n",
              "      <td>0.0141</td>\n",
              "      <td>0.0191</td>\n",
              "      <td>0.0145</td>\n",
              "      <td>0.0065</td>\n",
              "      <td>0.0129</td>\n",
              "      <td>0.0217</td>\n",
              "      <td>0.0087</td>\n",
              "      <td>0.0077</td>\n",
              "      <td>0.0122</td>\n",
              "      <td>Rock</td>\n",
              "    </tr>\n",
              "    <tr>\n",
              "      <th>168</th>\n",
              "      <td>0.0015</td>\n",
              "      <td>0.0186</td>\n",
              "      <td>0.0289</td>\n",
              "      <td>0.0195</td>\n",
              "      <td>0.0515</td>\n",
              "      <td>0.0817</td>\n",
              "      <td>0.1005</td>\n",
              "      <td>0.0124</td>\n",
              "      <td>0.1168</td>\n",
              "      <td>0.1476</td>\n",
              "      <td>...</td>\n",
              "      <td>0.0108</td>\n",
              "      <td>0.0075</td>\n",
              "      <td>0.0089</td>\n",
              "      <td>0.0036</td>\n",
              "      <td>0.0029</td>\n",
              "      <td>0.0013</td>\n",
              "      <td>0.0010</td>\n",
              "      <td>0.0032</td>\n",
              "      <td>0.0047</td>\n",
              "      <td>Mine</td>\n",
              "    </tr>\n",
              "    <tr>\n",
              "      <th>22</th>\n",
              "      <td>0.0099</td>\n",
              "      <td>0.0484</td>\n",
              "      <td>0.0299</td>\n",
              "      <td>0.0297</td>\n",
              "      <td>0.0652</td>\n",
              "      <td>0.1077</td>\n",
              "      <td>0.2363</td>\n",
              "      <td>0.2385</td>\n",
              "      <td>0.0075</td>\n",
              "      <td>0.1882</td>\n",
              "      <td>...</td>\n",
              "      <td>0.0173</td>\n",
              "      <td>0.0149</td>\n",
              "      <td>0.0115</td>\n",
              "      <td>0.0202</td>\n",
              "      <td>0.0139</td>\n",
              "      <td>0.0029</td>\n",
              "      <td>0.0160</td>\n",
              "      <td>0.0106</td>\n",
              "      <td>0.0134</td>\n",
              "      <td>Rock</td>\n",
              "    </tr>\n",
              "    <tr>\n",
              "      <th>7</th>\n",
              "      <td>0.0519</td>\n",
              "      <td>0.0548</td>\n",
              "      <td>0.0842</td>\n",
              "      <td>0.0319</td>\n",
              "      <td>0.1158</td>\n",
              "      <td>0.0922</td>\n",
              "      <td>0.1027</td>\n",
              "      <td>0.0613</td>\n",
              "      <td>0.1465</td>\n",
              "      <td>0.2838</td>\n",
              "      <td>...</td>\n",
              "      <td>0.0081</td>\n",
              "      <td>0.0120</td>\n",
              "      <td>0.0045</td>\n",
              "      <td>0.0121</td>\n",
              "      <td>0.0097</td>\n",
              "      <td>0.0085</td>\n",
              "      <td>0.0047</td>\n",
              "      <td>0.0048</td>\n",
              "      <td>0.0053</td>\n",
              "      <td>Rock</td>\n",
              "    </tr>\n",
              "  </tbody>\n",
              "</table>\n",
              "<p>5 rows × 61 columns</p>\n",
              "</div>"
            ],
            "text/plain": [
              "         0       1       2       3       4       5       6       7       8   \\\n",
              "86   0.0188  0.0370  0.0953  0.0824  0.0249  0.0488  0.1424  0.1972  0.1873   \n",
              "36   0.0094  0.0166  0.0398  0.0359  0.0681  0.0706  0.1020  0.0893  0.0381   \n",
              "168  0.0015  0.0186  0.0289  0.0195  0.0515  0.0817  0.1005  0.0124  0.1168   \n",
              "22   0.0099  0.0484  0.0299  0.0297  0.0652  0.1077  0.2363  0.2385  0.0075   \n",
              "7    0.0519  0.0548  0.0842  0.0319  0.1158  0.0922  0.1027  0.0613  0.1465   \n",
              "\n",
              "         9   ...      51      52      53      54      55      56      57  \\\n",
              "86   0.1806  ...  0.0093  0.0033  0.0113  0.0030  0.0057  0.0090  0.0057   \n",
              "36   0.1328  ...  0.0141  0.0191  0.0145  0.0065  0.0129  0.0217  0.0087   \n",
              "168  0.1476  ...  0.0108  0.0075  0.0089  0.0036  0.0029  0.0013  0.0010   \n",
              "22   0.1882  ...  0.0173  0.0149  0.0115  0.0202  0.0139  0.0029  0.0160   \n",
              "7    0.2838  ...  0.0081  0.0120  0.0045  0.0121  0.0097  0.0085  0.0047   \n",
              "\n",
              "         58      59    60  \n",
              "86   0.0068  0.0024  Rock  \n",
              "36   0.0077  0.0122  Rock  \n",
              "168  0.0032  0.0047  Mine  \n",
              "22   0.0106  0.0134  Rock  \n",
              "7    0.0048  0.0053  Rock  \n",
              "\n",
              "[5 rows x 61 columns]"
            ]
          },
          "execution_count": 2,
          "metadata": {},
          "output_type": "execute_result"
        }
      ],
      "source": [
        "df = pd.read_csv(\"sonar.csv\", header=None, skiprows = 1)\n",
        "df.sample(5)"
      ]
    },
    {
      "cell_type": "code",
      "execution_count": 3,
      "metadata": {
        "colab": {
          "base_uri": "https://localhost:8080/"
        },
        "id": "gxhnR8zInVCW",
        "outputId": "112a2653-3b5a-4f74-a704-edfe3c621f4b"
      },
      "outputs": [
        {
          "data": {
            "text/plain": [
              "0    Rock\n",
              "1    Rock\n",
              "2    Rock\n",
              "3    Rock\n",
              "4    Rock\n",
              "Name: 60, dtype: object"
            ]
          },
          "execution_count": 3,
          "metadata": {},
          "output_type": "execute_result"
        }
      ],
      "source": [
        "X = df.drop(60, axis=1)\n",
        "y = df[60]\n",
        "y.head()"
      ]
    },
    {
      "cell_type": "code",
      "execution_count": null,
      "metadata": {
        "id": "i35x02VCv-1a"
      },
      "outputs": [],
      "source": []
    },
    {
      "cell_type": "code",
      "execution_count": 4,
      "metadata": {
        "colab": {
          "base_uri": "https://localhost:8080/"
        },
        "id": "BdM62mvcnVCX",
        "outputId": "b7b64598-e868-4614-bd72-a86295b05138"
      },
      "outputs": [
        {
          "data": {
            "text/plain": [
              "array([1, 1, 1, 1, 1, 1, 1, 1, 1, 1, 1, 1, 1, 1, 1, 1, 1, 1, 1, 1, 1, 1,\n",
              "       1, 1, 1, 1, 1, 1, 1, 1, 1, 1, 1, 1, 1, 1, 1, 1, 1, 1, 1, 1, 1, 1,\n",
              "       1, 1, 1, 1, 1, 1, 1, 1, 1, 1, 1, 1, 1, 1, 1, 1, 1, 1, 1, 1, 1, 1,\n",
              "       1, 1, 1, 1, 1, 1, 1, 1, 1, 1, 1, 1, 1, 1, 1, 1, 1, 1, 1, 1, 1, 1,\n",
              "       1, 1, 1, 1, 1, 1, 1, 1, 1, 0, 0, 0, 0, 0, 0, 0, 0, 0, 0, 0, 0, 0,\n",
              "       0, 0, 0, 0, 0, 0, 0, 0, 0, 0, 0, 0, 0, 0, 0, 0, 0, 0, 0, 0, 0, 0,\n",
              "       0, 0, 0, 0, 0, 0, 0, 0, 0, 0, 0, 0, 0, 0, 0, 0, 0, 0, 0, 0, 0, 0,\n",
              "       0, 0, 0, 0, 0, 0, 0, 0, 0, 0, 0, 0, 0, 0, 0, 0, 0, 0, 0, 0, 0, 0,\n",
              "       0, 0, 0, 0, 0, 0, 0, 0, 0, 0, 0, 0, 0, 0, 0, 0, 0, 0, 0, 0, 0, 0,\n",
              "       0, 0, 0, 0, 0, 0, 0, 0, 0, 0])"
            ]
          },
          "execution_count": 4,
          "metadata": {},
          "output_type": "execute_result"
        }
      ],
      "source": [
        "from sklearn.preprocessing import LabelEncoder\n",
        "\n",
        "encoder = LabelEncoder()\n",
        "\n",
        "\n",
        "y = encoder.fit_transform(y)\n",
        "y"
      ]
    },
    {
      "cell_type": "code",
      "execution_count": 5,
      "metadata": {
        "id": "67GjV0-DnVCa"
      },
      "outputs": [],
      "source": [
        "from sklearn.model_selection import train_test_split\n",
        "X_train, X_test, y_train, y_test = train_test_split(X, y, test_size=0.25, random_state=1)\n",
        "\n",
        "_, x_val,_, y_val = train_test_split(X_test,y_test, test_size=0.25, random_state=1)"
      ]
    },
    {
      "cell_type": "markdown",
      "metadata": {
        "id": "9KJTw029nVCb"
      },
      "source": [
        "# Using Deep Learning Model"
      ]
    },
    {
      "cell_type": "markdown",
      "metadata": {
        "id": "hgIh_aiqnVCb"
      },
      "source": [
        "## Building Our NN Model"
      ]
    },
    {
      "cell_type": "code",
      "execution_count": 6,
      "metadata": {
        "id": "wr_cjyJsnVCc"
      },
      "outputs": [
        {
          "name": "stdout",
          "output_type": "stream",
          "text": [
            "WARNING:tensorflow:From c:\\Users\\Asus\\AppData\\Local\\Programs\\Python\\Python311\\Lib\\site-packages\\keras\\src\\losses.py:2976: The name tf.losses.sparse_softmax_cross_entropy is deprecated. Please use tf.compat.v1.losses.sparse_softmax_cross_entropy instead.\n",
            "\n"
          ]
        }
      ],
      "source": [
        "import tensorflow as tf\n",
        "from tensorflow import keras"
      ]
    },
    {
      "cell_type": "code",
      "execution_count": 7,
      "metadata": {
        "colab": {
          "base_uri": "https://localhost:8080/"
        },
        "id": "lf3t4dy3nVCc",
        "outputId": "afc5cb15-02ba-4657-8ba6-9c141bbbeb10",
        "scrolled": true
      },
      "outputs": [
        {
          "name": "stdout",
          "output_type": "stream",
          "text": [
            "WARNING:tensorflow:From c:\\Users\\Asus\\AppData\\Local\\Programs\\Python\\Python311\\Lib\\site-packages\\keras\\src\\backend.py:873: The name tf.get_default_graph is deprecated. Please use tf.compat.v1.get_default_graph instead.\n",
            "\n",
            "WARNING:tensorflow:From c:\\Users\\Asus\\AppData\\Local\\Programs\\Python\\Python311\\Lib\\site-packages\\keras\\src\\optimizers\\__init__.py:309: The name tf.train.Optimizer is deprecated. Please use tf.compat.v1.train.Optimizer instead.\n",
            "\n",
            "Epoch 1/100\n",
            "WARNING:tensorflow:From c:\\Users\\Asus\\AppData\\Local\\Programs\\Python\\Python311\\Lib\\site-packages\\keras\\src\\utils\\tf_utils.py:492: The name tf.ragged.RaggedTensorValue is deprecated. Please use tf.compat.v1.ragged.RaggedTensorValue instead.\n",
            "\n",
            "WARNING:tensorflow:From c:\\Users\\Asus\\AppData\\Local\\Programs\\Python\\Python311\\Lib\\site-packages\\keras\\src\\engine\\base_layer_utils.py:384: The name tf.executing_eagerly_outside_functions is deprecated. Please use tf.compat.v1.executing_eagerly_outside_functions instead.\n",
            "\n",
            "14/14 [==============================] - 2s 21ms/step - loss: 0.6868 - accuracy: 0.6239 - val_loss: 0.6657 - val_accuracy: 0.6596\n",
            "Epoch 2/100\n",
            "14/14 [==============================] - 0s 4ms/step - loss: 0.6715 - accuracy: 0.5688 - val_loss: 0.6519 - val_accuracy: 0.5532\n",
            "Epoch 3/100\n",
            "14/14 [==============================] - 0s 5ms/step - loss: 0.6603 - accuracy: 0.6606 - val_loss: 0.6357 - val_accuracy: 0.7234\n",
            "Epoch 4/100\n",
            "14/14 [==============================] - 0s 4ms/step - loss: 0.6384 - accuracy: 0.6606 - val_loss: 0.6171 - val_accuracy: 0.7234\n",
            "Epoch 5/100\n",
            "14/14 [==============================] - 0s 4ms/step - loss: 0.6196 - accuracy: 0.6697 - val_loss: 0.6003 - val_accuracy: 0.7660\n",
            "Epoch 6/100\n",
            "14/14 [==============================] - 0s 4ms/step - loss: 0.6038 - accuracy: 0.7523 - val_loss: 0.5774 - val_accuracy: 0.7872\n",
            "Epoch 7/100\n",
            "14/14 [==============================] - 0s 4ms/step - loss: 0.5779 - accuracy: 0.7982 - val_loss: 0.5476 - val_accuracy: 0.7872\n",
            "Epoch 8/100\n",
            "14/14 [==============================] - 0s 4ms/step - loss: 0.5510 - accuracy: 0.8257 - val_loss: 0.5228 - val_accuracy: 0.8511\n",
            "Epoch 9/100\n",
            "14/14 [==============================] - 0s 4ms/step - loss: 0.5304 - accuracy: 0.8532 - val_loss: 0.5088 - val_accuracy: 0.7660\n",
            "Epoch 10/100\n",
            "14/14 [==============================] - 0s 4ms/step - loss: 0.5030 - accuracy: 0.7890 - val_loss: 0.4679 - val_accuracy: 0.7872\n",
            "Epoch 11/100\n",
            "14/14 [==============================] - 0s 4ms/step - loss: 0.4717 - accuracy: 0.8624 - val_loss: 0.4671 - val_accuracy: 0.8298\n",
            "Epoch 12/100\n",
            "14/14 [==============================] - 0s 4ms/step - loss: 0.4469 - accuracy: 0.8899 - val_loss: 0.4357 - val_accuracy: 0.8298\n",
            "Epoch 13/100\n",
            "14/14 [==============================] - 0s 6ms/step - loss: 0.4196 - accuracy: 0.8440 - val_loss: 0.4201 - val_accuracy: 0.7872\n",
            "Epoch 14/100\n",
            "14/14 [==============================] - 0s 4ms/step - loss: 0.4070 - accuracy: 0.8440 - val_loss: 0.3947 - val_accuracy: 0.8511\n",
            "Epoch 15/100\n",
            "14/14 [==============================] - 0s 4ms/step - loss: 0.3845 - accuracy: 0.8807 - val_loss: 0.4208 - val_accuracy: 0.8298\n",
            "Epoch 16/100\n",
            "14/14 [==============================] - 0s 4ms/step - loss: 0.3425 - accuracy: 0.8991 - val_loss: 0.3734 - val_accuracy: 0.7872\n",
            "Epoch 17/100\n",
            "14/14 [==============================] - 0s 4ms/step - loss: 0.3499 - accuracy: 0.8349 - val_loss: 0.4354 - val_accuracy: 0.8298\n",
            "Epoch 18/100\n",
            "14/14 [==============================] - 0s 4ms/step - loss: 0.3046 - accuracy: 0.9358 - val_loss: 0.3973 - val_accuracy: 0.8511\n",
            "Epoch 19/100\n",
            "14/14 [==============================] - 0s 4ms/step - loss: 0.3022 - accuracy: 0.9174 - val_loss: 0.3755 - val_accuracy: 0.8298\n",
            "Epoch 20/100\n",
            "14/14 [==============================] - 0s 4ms/step - loss: 0.2765 - accuracy: 0.9266 - val_loss: 0.4129 - val_accuracy: 0.8511\n",
            "Epoch 21/100\n",
            "14/14 [==============================] - 0s 4ms/step - loss: 0.2737 - accuracy: 0.8807 - val_loss: 0.5327 - val_accuracy: 0.8511\n",
            "Epoch 22/100\n",
            "14/14 [==============================] - 0s 4ms/step - loss: 0.2854 - accuracy: 0.8899 - val_loss: 0.4223 - val_accuracy: 0.8511\n",
            "Epoch 23/100\n",
            "14/14 [==============================] - 0s 4ms/step - loss: 0.2323 - accuracy: 0.9450 - val_loss: 0.4199 - val_accuracy: 0.8511\n",
            "Epoch 24/100\n",
            "14/14 [==============================] - 0s 4ms/step - loss: 0.2297 - accuracy: 0.9266 - val_loss: 0.4921 - val_accuracy: 0.8298\n",
            "Epoch 25/100\n",
            "14/14 [==============================] - 0s 4ms/step - loss: 0.2140 - accuracy: 0.9450 - val_loss: 0.4651 - val_accuracy: 0.8511\n",
            "Epoch 26/100\n",
            "14/14 [==============================] - 0s 4ms/step - loss: 0.2002 - accuracy: 0.9266 - val_loss: 0.4977 - val_accuracy: 0.8511\n",
            "Epoch 27/100\n",
            "14/14 [==============================] - 0s 4ms/step - loss: 0.1913 - accuracy: 0.9450 - val_loss: 0.4869 - val_accuracy: 0.8511\n",
            "Epoch 28/100\n",
            "14/14 [==============================] - 0s 4ms/step - loss: 0.1622 - accuracy: 0.9817 - val_loss: 0.5109 - val_accuracy: 0.8511\n",
            "Epoch 29/100\n",
            "14/14 [==============================] - 0s 4ms/step - loss: 0.1809 - accuracy: 0.9450 - val_loss: 0.5069 - val_accuracy: 0.8723\n",
            "Epoch 30/100\n",
            "14/14 [==============================] - 0s 4ms/step - loss: 0.1383 - accuracy: 0.9817 - val_loss: 0.5257 - val_accuracy: 0.8511\n",
            "Epoch 31/100\n",
            "14/14 [==============================] - 0s 4ms/step - loss: 0.1194 - accuracy: 0.9908 - val_loss: 0.5462 - val_accuracy: 0.8511\n",
            "Epoch 32/100\n",
            "14/14 [==============================] - 0s 4ms/step - loss: 0.1131 - accuracy: 0.9725 - val_loss: 0.5247 - val_accuracy: 0.8723\n",
            "Epoch 33/100\n",
            "14/14 [==============================] - 0s 4ms/step - loss: 0.1430 - accuracy: 0.9450 - val_loss: 0.5244 - val_accuracy: 0.8723\n",
            "Epoch 34/100\n",
            "14/14 [==============================] - 0s 4ms/step - loss: 0.1230 - accuracy: 0.9725 - val_loss: 0.5460 - val_accuracy: 0.8723\n",
            "Epoch 35/100\n",
            "14/14 [==============================] - 0s 4ms/step - loss: 0.0976 - accuracy: 0.9817 - val_loss: 0.5682 - val_accuracy: 0.8723\n",
            "Epoch 36/100\n",
            "14/14 [==============================] - 0s 4ms/step - loss: 0.0849 - accuracy: 1.0000 - val_loss: 0.5970 - val_accuracy: 0.8723\n",
            "Epoch 37/100\n",
            "14/14 [==============================] - 0s 4ms/step - loss: 0.0718 - accuracy: 1.0000 - val_loss: 0.6019 - val_accuracy: 0.8723\n",
            "Epoch 38/100\n",
            "14/14 [==============================] - 0s 5ms/step - loss: 0.0713 - accuracy: 1.0000 - val_loss: 0.6086 - val_accuracy: 0.8723\n",
            "Epoch 39/100\n",
            "14/14 [==============================] - 0s 7ms/step - loss: 0.0633 - accuracy: 1.0000 - val_loss: 0.6287 - val_accuracy: 0.8723\n",
            "Epoch 40/100\n",
            "14/14 [==============================] - 0s 4ms/step - loss: 0.0565 - accuracy: 1.0000 - val_loss: 0.6346 - val_accuracy: 0.8723\n",
            "Epoch 41/100\n",
            "14/14 [==============================] - 0s 5ms/step - loss: 0.0473 - accuracy: 1.0000 - val_loss: 0.7261 - val_accuracy: 0.8298\n",
            "Epoch 42/100\n",
            "14/14 [==============================] - 0s 5ms/step - loss: 0.0664 - accuracy: 1.0000 - val_loss: 0.6438 - val_accuracy: 0.8723\n",
            "Epoch 43/100\n",
            "14/14 [==============================] - 0s 4ms/step - loss: 0.0509 - accuracy: 1.0000 - val_loss: 0.6738 - val_accuracy: 0.8723\n",
            "Epoch 44/100\n",
            "14/14 [==============================] - 0s 4ms/step - loss: 0.0477 - accuracy: 1.0000 - val_loss: 0.7184 - val_accuracy: 0.8723\n",
            "Epoch 45/100\n",
            "14/14 [==============================] - 0s 4ms/step - loss: 0.0433 - accuracy: 1.0000 - val_loss: 0.7243 - val_accuracy: 0.8723\n",
            "Epoch 46/100\n",
            "14/14 [==============================] - 0s 4ms/step - loss: 0.0361 - accuracy: 1.0000 - val_loss: 0.7366 - val_accuracy: 0.8723\n",
            "Epoch 47/100\n",
            "14/14 [==============================] - 0s 4ms/step - loss: 0.0290 - accuracy: 1.0000 - val_loss: 0.7365 - val_accuracy: 0.8723\n",
            "Epoch 48/100\n",
            "14/14 [==============================] - 0s 4ms/step - loss: 0.0281 - accuracy: 1.0000 - val_loss: 0.7559 - val_accuracy: 0.8723\n",
            "Epoch 49/100\n",
            "14/14 [==============================] - 0s 4ms/step - loss: 0.0267 - accuracy: 1.0000 - val_loss: 0.7686 - val_accuracy: 0.8723\n",
            "Epoch 50/100\n",
            "14/14 [==============================] - 0s 4ms/step - loss: 0.0233 - accuracy: 1.0000 - val_loss: 0.7680 - val_accuracy: 0.8723\n",
            "Epoch 51/100\n",
            "14/14 [==============================] - 0s 4ms/step - loss: 0.0206 - accuracy: 1.0000 - val_loss: 0.7645 - val_accuracy: 0.8723\n",
            "Epoch 52/100\n",
            "14/14 [==============================] - 0s 5ms/step - loss: 0.0221 - accuracy: 1.0000 - val_loss: 0.8036 - val_accuracy: 0.8723\n",
            "Epoch 53/100\n",
            "14/14 [==============================] - 0s 4ms/step - loss: 0.0195 - accuracy: 1.0000 - val_loss: 0.7757 - val_accuracy: 0.8723\n",
            "Epoch 54/100\n",
            "14/14 [==============================] - 0s 4ms/step - loss: 0.0165 - accuracy: 1.0000 - val_loss: 0.7992 - val_accuracy: 0.8723\n",
            "Epoch 55/100\n",
            "14/14 [==============================] - 0s 4ms/step - loss: 0.0151 - accuracy: 1.0000 - val_loss: 0.8315 - val_accuracy: 0.8723\n",
            "Epoch 56/100\n",
            "14/14 [==============================] - 0s 4ms/step - loss: 0.0168 - accuracy: 1.0000 - val_loss: 0.8116 - val_accuracy: 0.8723\n",
            "Epoch 57/100\n",
            "14/14 [==============================] - 0s 4ms/step - loss: 0.0133 - accuracy: 1.0000 - val_loss: 0.8374 - val_accuracy: 0.8723\n",
            "Epoch 58/100\n",
            "14/14 [==============================] - 0s 4ms/step - loss: 0.0129 - accuracy: 1.0000 - val_loss: 0.8393 - val_accuracy: 0.8723\n",
            "Epoch 59/100\n",
            "14/14 [==============================] - 0s 4ms/step - loss: 0.0125 - accuracy: 1.0000 - val_loss: 0.8414 - val_accuracy: 0.8723\n",
            "Epoch 60/100\n",
            "14/14 [==============================] - 0s 4ms/step - loss: 0.0123 - accuracy: 1.0000 - val_loss: 0.8616 - val_accuracy: 0.8723\n",
            "Epoch 61/100\n",
            "14/14 [==============================] - 0s 4ms/step - loss: 0.0104 - accuracy: 1.0000 - val_loss: 0.8507 - val_accuracy: 0.8723\n",
            "Epoch 62/100\n",
            "14/14 [==============================] - 0s 4ms/step - loss: 0.0113 - accuracy: 1.0000 - val_loss: 0.8788 - val_accuracy: 0.8723\n",
            "Epoch 63/100\n",
            "14/14 [==============================] - 0s 4ms/step - loss: 0.0091 - accuracy: 1.0000 - val_loss: 0.8732 - val_accuracy: 0.8723\n",
            "Epoch 64/100\n",
            "14/14 [==============================] - 0s 6ms/step - loss: 0.0086 - accuracy: 1.0000 - val_loss: 0.8828 - val_accuracy: 0.8723\n",
            "Epoch 65/100\n",
            "14/14 [==============================] - 0s 4ms/step - loss: 0.0081 - accuracy: 1.0000 - val_loss: 0.9001 - val_accuracy: 0.8723\n",
            "Epoch 66/100\n",
            "14/14 [==============================] - 0s 4ms/step - loss: 0.0083 - accuracy: 1.0000 - val_loss: 0.8834 - val_accuracy: 0.8723\n",
            "Epoch 67/100\n",
            "14/14 [==============================] - 0s 4ms/step - loss: 0.0072 - accuracy: 1.0000 - val_loss: 0.9134 - val_accuracy: 0.8723\n",
            "Epoch 68/100\n",
            "14/14 [==============================] - 0s 4ms/step - loss: 0.0072 - accuracy: 1.0000 - val_loss: 0.9137 - val_accuracy: 0.8723\n",
            "Epoch 69/100\n",
            "14/14 [==============================] - 0s 4ms/step - loss: 0.0067 - accuracy: 1.0000 - val_loss: 0.9223 - val_accuracy: 0.8723\n",
            "Epoch 70/100\n",
            "14/14 [==============================] - 0s 4ms/step - loss: 0.0061 - accuracy: 1.0000 - val_loss: 0.9246 - val_accuracy: 0.8723\n",
            "Epoch 71/100\n",
            "14/14 [==============================] - 0s 4ms/step - loss: 0.0059 - accuracy: 1.0000 - val_loss: 0.9335 - val_accuracy: 0.8723\n",
            "Epoch 72/100\n",
            "14/14 [==============================] - 0s 4ms/step - loss: 0.0055 - accuracy: 1.0000 - val_loss: 0.9396 - val_accuracy: 0.8723\n",
            "Epoch 73/100\n",
            "14/14 [==============================] - 0s 4ms/step - loss: 0.0054 - accuracy: 1.0000 - val_loss: 0.9449 - val_accuracy: 0.8723\n",
            "Epoch 74/100\n",
            "14/14 [==============================] - 0s 4ms/step - loss: 0.0053 - accuracy: 1.0000 - val_loss: 0.9631 - val_accuracy: 0.8723\n",
            "Epoch 75/100\n",
            "14/14 [==============================] - 0s 4ms/step - loss: 0.0054 - accuracy: 1.0000 - val_loss: 0.9524 - val_accuracy: 0.8723\n",
            "Epoch 76/100\n",
            "14/14 [==============================] - 0s 4ms/step - loss: 0.0048 - accuracy: 1.0000 - val_loss: 0.9681 - val_accuracy: 0.8723\n",
            "Epoch 77/100\n",
            "14/14 [==============================] - 0s 4ms/step - loss: 0.0056 - accuracy: 1.0000 - val_loss: 0.9583 - val_accuracy: 0.8723\n",
            "Epoch 78/100\n",
            "14/14 [==============================] - 0s 4ms/step - loss: 0.0051 - accuracy: 1.0000 - val_loss: 0.9822 - val_accuracy: 0.8723\n",
            "Epoch 79/100\n",
            "14/14 [==============================] - 0s 4ms/step - loss: 0.0042 - accuracy: 1.0000 - val_loss: 0.9776 - val_accuracy: 0.8723\n",
            "Epoch 80/100\n",
            "14/14 [==============================] - 0s 4ms/step - loss: 0.0041 - accuracy: 1.0000 - val_loss: 0.9862 - val_accuracy: 0.8723\n",
            "Epoch 81/100\n",
            "14/14 [==============================] - 0s 4ms/step - loss: 0.0040 - accuracy: 1.0000 - val_loss: 0.9909 - val_accuracy: 0.8723\n",
            "Epoch 82/100\n",
            "14/14 [==============================] - 0s 4ms/step - loss: 0.0037 - accuracy: 1.0000 - val_loss: 1.0089 - val_accuracy: 0.8723\n",
            "Epoch 83/100\n",
            "14/14 [==============================] - 0s 4ms/step - loss: 0.0038 - accuracy: 1.0000 - val_loss: 0.9981 - val_accuracy: 0.8723\n",
            "Epoch 84/100\n",
            "14/14 [==============================] - 0s 4ms/step - loss: 0.0035 - accuracy: 1.0000 - val_loss: 1.0130 - val_accuracy: 0.8723\n",
            "Epoch 85/100\n",
            "14/14 [==============================] - 0s 4ms/step - loss: 0.0035 - accuracy: 1.0000 - val_loss: 1.0102 - val_accuracy: 0.8723\n",
            "Epoch 86/100\n",
            "14/14 [==============================] - 0s 5ms/step - loss: 0.0033 - accuracy: 1.0000 - val_loss: 1.0152 - val_accuracy: 0.8723\n",
            "Epoch 87/100\n",
            "14/14 [==============================] - 0s 4ms/step - loss: 0.0032 - accuracy: 1.0000 - val_loss: 1.0228 - val_accuracy: 0.8723\n",
            "Epoch 88/100\n",
            "14/14 [==============================] - 0s 4ms/step - loss: 0.0031 - accuracy: 1.0000 - val_loss: 1.0241 - val_accuracy: 0.8723\n",
            "Epoch 89/100\n",
            "14/14 [==============================] - 0s 4ms/step - loss: 0.0029 - accuracy: 1.0000 - val_loss: 1.0225 - val_accuracy: 0.8723\n",
            "Epoch 90/100\n",
            "14/14 [==============================] - 0s 4ms/step - loss: 0.0029 - accuracy: 1.0000 - val_loss: 1.0421 - val_accuracy: 0.8723\n",
            "Epoch 91/100\n",
            "14/14 [==============================] - 0s 4ms/step - loss: 0.0028 - accuracy: 1.0000 - val_loss: 1.0425 - val_accuracy: 0.8723\n",
            "Epoch 92/100\n",
            "14/14 [==============================] - 0s 4ms/step - loss: 0.0025 - accuracy: 1.0000 - val_loss: 1.0445 - val_accuracy: 0.8723\n",
            "Epoch 93/100\n",
            "14/14 [==============================] - 0s 4ms/step - loss: 0.0025 - accuracy: 1.0000 - val_loss: 1.0457 - val_accuracy: 0.8723\n",
            "Epoch 94/100\n",
            "14/14 [==============================] - 0s 4ms/step - loss: 0.0025 - accuracy: 1.0000 - val_loss: 1.0513 - val_accuracy: 0.8723\n",
            "Epoch 95/100\n",
            "14/14 [==============================] - 0s 4ms/step - loss: 0.0023 - accuracy: 1.0000 - val_loss: 1.0577 - val_accuracy: 0.8723\n",
            "Epoch 96/100\n",
            "14/14 [==============================] - 0s 4ms/step - loss: 0.0022 - accuracy: 1.0000 - val_loss: 1.0606 - val_accuracy: 0.8723\n",
            "Epoch 97/100\n",
            "14/14 [==============================] - 0s 4ms/step - loss: 0.0021 - accuracy: 1.0000 - val_loss: 1.0653 - val_accuracy: 0.8723\n",
            "Epoch 98/100\n",
            "14/14 [==============================] - 0s 4ms/step - loss: 0.0021 - accuracy: 1.0000 - val_loss: 1.0722 - val_accuracy: 0.8723\n",
            "Epoch 99/100\n",
            "14/14 [==============================] - 0s 4ms/step - loss: 0.0020 - accuracy: 1.0000 - val_loss: 1.0746 - val_accuracy: 0.8723\n",
            "Epoch 100/100\n",
            "14/14 [==============================] - 0s 5ms/step - loss: 0.0020 - accuracy: 1.0000 - val_loss: 1.0805 - val_accuracy: 0.8723\n"
          ]
        }
      ],
      "source": [
        "model = keras.Sequential([\n",
        "    keras.layers.Dense(80, input_dim=60, activation='relu'),\n",
        "    keras.layers.Dense(30, activation='relu'),\n",
        "    keras.layers.Dense(15, activation='relu'),\n",
        "    keras.layers.Dense(1, activation='sigmoid')\n",
        "])\n",
        "\n",
        "model.compile(loss='binary_crossentropy', optimizer='adam', metrics=['accuracy'])\n",
        "\n",
        "H = model.fit(X_train, y_train, epochs=100, batch_size=8, validation_split=0.3)"
      ]
    },
    {
      "cell_type": "code",
      "execution_count": 8,
      "metadata": {
        "colab": {
          "base_uri": "https://localhost:8080/"
        },
        "id": "zswuJAIpnVCd",
        "outputId": "1df158c2-075d-4c82-99ac-808b344f0d0d"
      },
      "outputs": [
        {
          "name": "stdout",
          "output_type": "stream",
          "text": [
            "2/2 [==============================] - 0s 8ms/step - loss: 1.2394 - accuracy: 0.7692\n",
            "Test Accuracy:  76.92307829856873\n"
          ]
        }
      ],
      "source": [
        "loss, acc = model.evaluate(X_test, y_test)\n",
        "print('Test Accuracy: ', acc*100)"
      ]
    },
    {
      "cell_type": "code",
      "execution_count": 9,
      "metadata": {
        "colab": {
          "base_uri": "https://localhost:8080/"
        },
        "id": "OMU_Yy7XxLvX",
        "outputId": "b3a5c91e-3571-4fee-a684-b269061f96a4"
      },
      "outputs": [
        {
          "name": "stdout",
          "output_type": "stream",
          "text": [
            "5/5 [==============================] - 0s 3ms/step - loss: 0.3268 - accuracy: 0.9615\n",
            "Training Accuracy:  96.15384340286255\n"
          ]
        }
      ],
      "source": [
        "loss, acc = model.evaluate(X_train, y_train)\n",
        "print('Training Accuracy: ', acc*100)"
      ]
    },
    {
      "cell_type": "markdown",
      "metadata": {
        "id": "HEPephzDedkn"
      },
      "source": [
        "Our model is overfitting"
      ]
    },
    {
      "cell_type": "code",
      "execution_count": 10,
      "metadata": {
        "colab": {
          "base_uri": "https://localhost:8080/",
          "height": 534
        },
        "id": "m_5dGopOxspf",
        "outputId": "cb8e2759-4a05-4268-bc5b-94a6124f516b"
      },
      "outputs": [
        {
          "data": {
            "text/plain": [
              "<matplotlib.legend.Legend at 0x240e5cfa650>"
            ]
          },
          "execution_count": 10,
          "metadata": {},
          "output_type": "execute_result"
        },
        {
          "data": {
            "image/png": "[encoded data removed]",
            "text/plain": [
              "<Figure size 1000x800 with 1 Axes>"
            ]
          },
          "metadata": {},
          "output_type": "display_data"
        }
      ],
      "source": [
        "import matplotlib.pyplot as plt\n",
        "\n",
        "\n",
        "epochs = np.arange(0, len(H.history[\"loss\"]))\n",
        "plt.figure(figsize=(10,8))\n",
        "plt.style.use(\"ggplot\")\n",
        "\n",
        "\n",
        "# plot training and validation loss\n",
        "plt.style.use(\"ggplot\")\n",
        "plt.plot(epochs, H.history[\"loss\"], label=\"train_loss\")\n",
        "plt.plot(epochs, H.history[\"val_loss\"], label=\"val_loss\")\n",
        "plt.title(\"Training Vs Validation Loss\")\n",
        "plt.xlabel(\"Epoch #\")\n",
        "plt.ylabel(\"Loss\")\n",
        "plt.legend()"
      ]
    },
    {
      "cell_type": "markdown",
      "metadata": {
        "id": "nGXxSFYN0xM8"
      },
      "source": [
        "# Fixing Overfitting\n"
      ]
    },
    {
      "cell_type": "markdown",
      "metadata": {
        "id": "xSY3v0FSC0vO"
      },
      "source": [
        "\n",
        "\n",
        "\n",
        "# Adding L2 Regularization from Keras"
      ]
    },
    {
      "cell_type": "code",
      "execution_count": 39,
      "metadata": {
        "colab": {
          "base_uri": "https://localhost:8080/"
        },
        "id": "You4UFDb0wgB",
        "outputId": "cafcc8c2-70af-42fd-b3de-6bdff23cf859"
      },
      "outputs": [
        {
          "name": "stdout",
          "output_type": "stream",
          "text": [
            "Epoch 1/100\n",
            "14/14 [==============================] - 1s 18ms/step - loss: 13.1130 - accuracy: 0.5138 - val_loss: 11.7315 - val_accuracy: 0.5532\n",
            "Epoch 2/100\n",
            "14/14 [==============================] - 0s 5ms/step - loss: 10.7352 - accuracy: 0.5505 - val_loss: 9.5789 - val_accuracy: 0.5532\n",
            "Epoch 3/100\n",
            "14/14 [==============================] - 0s 5ms/step - loss: 8.7512 - accuracy: 0.5596 - val_loss: 7.8000 - val_accuracy: 0.5957\n",
            "Epoch 4/100\n",
            "14/14 [==============================] - 0s 6ms/step - loss: 7.1235 - accuracy: 0.5688 - val_loss: 6.3458 - val_accuracy: 0.5745\n",
            "Epoch 5/100\n",
            "14/14 [==============================] - 0s 6ms/step - loss: 5.7983 - accuracy: 0.5596 - val_loss: 5.1669 - val_accuracy: 0.6170\n",
            "Epoch 6/100\n",
            "14/14 [==============================] - 0s 5ms/step - loss: 4.7271 - accuracy: 0.5872 - val_loss: 4.2117 - val_accuracy: 0.6170\n",
            "Epoch 7/100\n",
            "14/14 [==============================] - 0s 4ms/step - loss: 3.8620 - accuracy: 0.6055 - val_loss: 3.4471 - val_accuracy: 0.6596\n",
            "Epoch 8/100\n",
            "14/14 [==============================] - 0s 4ms/step - loss: 3.1676 - accuracy: 0.6514 - val_loss: 2.8357 - val_accuracy: 0.6383\n",
            "Epoch 9/100\n",
            "14/14 [==============================] - 0s 5ms/step - loss: 2.6131 - accuracy: 0.6239 - val_loss: 2.3434 - val_accuracy: 0.6170\n",
            "Epoch 10/100\n",
            "14/14 [==============================] - 0s 5ms/step - loss: 2.1718 - accuracy: 0.6330 - val_loss: 1.9575 - val_accuracy: 0.6383\n",
            "Epoch 11/100\n",
            "14/14 [==============================] - 0s 5ms/step - loss: 1.8274 - accuracy: 0.6422 - val_loss: 1.6518 - val_accuracy: 0.6383\n",
            "Epoch 12/100\n",
            "14/14 [==============================] - 0s 5ms/step - loss: 1.5504 - accuracy: 0.6514 - val_loss: 1.4132 - val_accuracy: 0.6383\n",
            "Epoch 13/100\n",
            "14/14 [==============================] - 0s 5ms/step - loss: 1.3391 - accuracy: 0.6422 - val_loss: 1.2239 - val_accuracy: 0.7234\n",
            "Epoch 14/100\n",
            "14/14 [==============================] - 0s 4ms/step - loss: 1.1832 - accuracy: 0.5688 - val_loss: 1.0803 - val_accuracy: 0.7660\n",
            "Epoch 15/100\n",
            "14/14 [==============================] - 0s 4ms/step - loss: 1.0457 - accuracy: 0.6789 - val_loss: 0.9733 - val_accuracy: 0.7872\n",
            "Epoch 16/100\n",
            "14/14 [==============================] - 0s 5ms/step - loss: 0.9398 - accuracy: 0.6697 - val_loss: 0.8725 - val_accuracy: 0.7234\n",
            "Epoch 17/100\n",
            "14/14 [==============================] - 0s 4ms/step - loss: 0.8489 - accuracy: 0.7431 - val_loss: 0.7986 - val_accuracy: 0.8298\n",
            "Epoch 18/100\n",
            "14/14 [==============================] - 0s 5ms/step - loss: 0.7784 - accuracy: 0.7248 - val_loss: 0.7417 - val_accuracy: 0.8511\n",
            "Epoch 19/100\n",
            "14/14 [==============================] - 0s 4ms/step - loss: 0.7367 - accuracy: 0.7615 - val_loss: 0.6926 - val_accuracy: 0.7660\n",
            "Epoch 20/100\n",
            "14/14 [==============================] - 0s 4ms/step - loss: 0.6953 - accuracy: 0.7431 - val_loss: 0.6778 - val_accuracy: 0.7021\n",
            "Epoch 21/100\n",
            "14/14 [==============================] - 0s 4ms/step - loss: 0.6769 - accuracy: 0.7431 - val_loss: 0.6319 - val_accuracy: 0.7872\n",
            "Epoch 22/100\n",
            "14/14 [==============================] - 0s 9ms/step - loss: 0.6302 - accuracy: 0.7890 - val_loss: 0.6308 - val_accuracy: 0.7660\n",
            "Epoch 23/100\n",
            "14/14 [==============================] - 0s 5ms/step - loss: 0.6003 - accuracy: 0.7798 - val_loss: 0.6159 - val_accuracy: 0.7660\n",
            "Epoch 24/100\n",
            "14/14 [==============================] - 0s 5ms/step - loss: 0.5903 - accuracy: 0.7523 - val_loss: 0.6052 - val_accuracy: 0.7660\n",
            "Epoch 25/100\n",
            "14/14 [==============================] - 0s 5ms/step - loss: 0.6224 - accuracy: 0.7339 - val_loss: 0.5593 - val_accuracy: 0.8298\n",
            "Epoch 26/100\n",
            "14/14 [==============================] - 0s 4ms/step - loss: 0.5635 - accuracy: 0.7798 - val_loss: 0.5615 - val_accuracy: 0.7234\n",
            "Epoch 27/100\n",
            "14/14 [==============================] - 0s 4ms/step - loss: 0.5444 - accuracy: 0.8165 - val_loss: 0.6549 - val_accuracy: 0.6809\n",
            "Epoch 28/100\n",
            "14/14 [==============================] - 0s 4ms/step - loss: 0.5614 - accuracy: 0.7890 - val_loss: 0.5969 - val_accuracy: 0.7872\n",
            "Epoch 29/100\n",
            "14/14 [==============================] - 0s 4ms/step - loss: 0.5096 - accuracy: 0.7890 - val_loss: 0.5234 - val_accuracy: 0.8298\n",
            "Epoch 30/100\n",
            "14/14 [==============================] - 0s 4ms/step - loss: 0.5520 - accuracy: 0.7706 - val_loss: 0.5379 - val_accuracy: 0.8298\n",
            "Epoch 31/100\n",
            "14/14 [==============================] - 0s 4ms/step - loss: 0.5118 - accuracy: 0.8165 - val_loss: 0.5325 - val_accuracy: 0.8298\n",
            "Epoch 32/100\n",
            "14/14 [==============================] - 0s 4ms/step - loss: 0.4890 - accuracy: 0.8440 - val_loss: 0.5338 - val_accuracy: 0.8511\n",
            "Epoch 33/100\n",
            "14/14 [==============================] - 0s 4ms/step - loss: 0.5185 - accuracy: 0.8165 - val_loss: 0.5240 - val_accuracy: 0.8298\n",
            "Epoch 34/100\n",
            "14/14 [==============================] - 0s 4ms/step - loss: 0.4789 - accuracy: 0.8532 - val_loss: 0.5395 - val_accuracy: 0.8298\n",
            "Epoch 35/100\n",
            "14/14 [==============================] - 0s 4ms/step - loss: 0.4769 - accuracy: 0.8440 - val_loss: 0.5511 - val_accuracy: 0.8298\n",
            "Epoch 36/100\n",
            "14/14 [==============================] - 0s 4ms/step - loss: 0.4719 - accuracy: 0.8532 - val_loss: 0.5338 - val_accuracy: 0.8298\n",
            "Epoch 37/100\n",
            "14/14 [==============================] - 0s 4ms/step - loss: 0.4531 - accuracy: 0.8532 - val_loss: 0.5292 - val_accuracy: 0.8298\n",
            "Epoch 38/100\n",
            "14/14 [==============================] - 0s 4ms/step - loss: 0.4388 - accuracy: 0.8716 - val_loss: 0.5210 - val_accuracy: 0.8511\n",
            "Epoch 39/100\n",
            "14/14 [==============================] - 0s 4ms/step - loss: 0.4266 - accuracy: 0.8624 - val_loss: 0.5532 - val_accuracy: 0.8298\n",
            "Epoch 40/100\n",
            "14/14 [==============================] - 0s 4ms/step - loss: 0.4350 - accuracy: 0.8440 - val_loss: 0.5187 - val_accuracy: 0.8511\n",
            "Epoch 41/100\n",
            "14/14 [==============================] - 0s 4ms/step - loss: 0.4215 - accuracy: 0.8991 - val_loss: 0.5253 - val_accuracy: 0.8298\n",
            "Epoch 42/100\n",
            "14/14 [==============================] - 0s 4ms/step - loss: 0.4062 - accuracy: 0.8991 - val_loss: 0.6059 - val_accuracy: 0.8085\n",
            "Epoch 43/100\n",
            "14/14 [==============================] - 0s 4ms/step - loss: 0.4694 - accuracy: 0.8349 - val_loss: 0.5563 - val_accuracy: 0.7234\n",
            "Epoch 44/100\n",
            "14/14 [==============================] - 0s 5ms/step - loss: 0.4420 - accuracy: 0.8440 - val_loss: 0.5491 - val_accuracy: 0.7660\n",
            "Epoch 45/100\n",
            "14/14 [==============================] - 0s 4ms/step - loss: 0.4108 - accuracy: 0.8716 - val_loss: 0.5320 - val_accuracy: 0.8298\n",
            "Epoch 46/100\n",
            "14/14 [==============================] - 0s 4ms/step - loss: 0.5021 - accuracy: 0.8073 - val_loss: 0.8103 - val_accuracy: 0.6809\n",
            "Epoch 47/100\n",
            "14/14 [==============================] - 0s 4ms/step - loss: 0.5433 - accuracy: 0.7706 - val_loss: 0.6043 - val_accuracy: 0.8085\n",
            "Epoch 48/100\n",
            "14/14 [==============================] - 0s 4ms/step - loss: 0.4311 - accuracy: 0.8257 - val_loss: 0.5450 - val_accuracy: 0.8298\n",
            "Epoch 49/100\n",
            "14/14 [==============================] - 0s 4ms/step - loss: 0.4122 - accuracy: 0.8899 - val_loss: 0.5363 - val_accuracy: 0.8298\n",
            "Epoch 50/100\n",
            "14/14 [==============================] - 0s 4ms/step - loss: 0.4128 - accuracy: 0.8807 - val_loss: 0.6117 - val_accuracy: 0.6809\n",
            "Epoch 51/100\n",
            "14/14 [==============================] - 0s 4ms/step - loss: 0.5240 - accuracy: 0.7798 - val_loss: 0.5188 - val_accuracy: 0.8298\n",
            "Epoch 52/100\n",
            "14/14 [==============================] - 0s 4ms/step - loss: 0.3849 - accuracy: 0.9266 - val_loss: 0.5610 - val_accuracy: 0.8085\n",
            "Epoch 53/100\n",
            "14/14 [==============================] - 0s 4ms/step - loss: 0.3984 - accuracy: 0.9083 - val_loss: 0.5780 - val_accuracy: 0.8085\n",
            "Epoch 54/100\n",
            "14/14 [==============================] - 0s 4ms/step - loss: 0.4032 - accuracy: 0.8899 - val_loss: 0.5546 - val_accuracy: 0.8298\n",
            "Epoch 55/100\n",
            "14/14 [==============================] - 0s 4ms/step - loss: 0.4156 - accuracy: 0.8532 - val_loss: 0.5480 - val_accuracy: 0.8085\n",
            "Epoch 56/100\n",
            "14/14 [==============================] - 0s 4ms/step - loss: 0.4268 - accuracy: 0.8624 - val_loss: 0.5776 - val_accuracy: 0.8085\n",
            "Epoch 57/100\n",
            "14/14 [==============================] - 0s 4ms/step - loss: 0.4536 - accuracy: 0.8349 - val_loss: 0.6324 - val_accuracy: 0.8298\n",
            "Epoch 58/100\n",
            "14/14 [==============================] - 0s 4ms/step - loss: 0.4237 - accuracy: 0.8532 - val_loss: 0.5413 - val_accuracy: 0.8298\n",
            "Epoch 59/100\n",
            "14/14 [==============================] - 0s 4ms/step - loss: 0.4145 - accuracy: 0.8349 - val_loss: 0.5377 - val_accuracy: 0.8298\n",
            "Epoch 60/100\n",
            "14/14 [==============================] - 0s 4ms/step - loss: 0.3633 - accuracy: 0.9266 - val_loss: 0.5456 - val_accuracy: 0.8298\n",
            "Epoch 61/100\n",
            "14/14 [==============================] - 0s 4ms/step - loss: 0.3571 - accuracy: 0.8991 - val_loss: 0.5878 - val_accuracy: 0.8085\n",
            "Epoch 62/100\n",
            "14/14 [==============================] - 0s 4ms/step - loss: 0.3936 - accuracy: 0.8899 - val_loss: 0.5471 - val_accuracy: 0.8298\n",
            "Epoch 63/100\n",
            "14/14 [==============================] - 0s 4ms/step - loss: 0.4036 - accuracy: 0.8349 - val_loss: 0.6011 - val_accuracy: 0.7660\n",
            "Epoch 64/100\n",
            "14/14 [==============================] - 0s 4ms/step - loss: 0.4869 - accuracy: 0.8073 - val_loss: 0.5406 - val_accuracy: 0.8085\n",
            "Epoch 65/100\n",
            "14/14 [==============================] - 0s 4ms/step - loss: 0.3688 - accuracy: 0.8991 - val_loss: 0.5481 - val_accuracy: 0.8298\n",
            "Epoch 66/100\n",
            "14/14 [==============================] - 0s 4ms/step - loss: 0.3719 - accuracy: 0.9174 - val_loss: 0.5424 - val_accuracy: 0.8511\n",
            "Epoch 67/100\n",
            "14/14 [==============================] - 0s 4ms/step - loss: 0.4111 - accuracy: 0.8349 - val_loss: 0.5859 - val_accuracy: 0.7660\n",
            "Epoch 68/100\n",
            "14/14 [==============================] - 0s 4ms/step - loss: 0.4476 - accuracy: 0.8349 - val_loss: 0.5225 - val_accuracy: 0.8723\n",
            "Epoch 69/100\n",
            "14/14 [==============================] - 0s 4ms/step - loss: 0.3565 - accuracy: 0.8991 - val_loss: 0.5336 - val_accuracy: 0.8723\n",
            "Epoch 70/100\n",
            "14/14 [==============================] - 0s 4ms/step - loss: 0.3464 - accuracy: 0.9266 - val_loss: 0.6211 - val_accuracy: 0.8298\n",
            "Epoch 71/100\n",
            "14/14 [==============================] - 0s 6ms/step - loss: 0.4437 - accuracy: 0.8440 - val_loss: 0.6141 - val_accuracy: 0.8298\n",
            "Epoch 72/100\n",
            "14/14 [==============================] - 0s 4ms/step - loss: 0.3880 - accuracy: 0.8532 - val_loss: 0.5706 - val_accuracy: 0.8085\n",
            "Epoch 73/100\n",
            "14/14 [==============================] - 0s 4ms/step - loss: 0.3510 - accuracy: 0.8899 - val_loss: 0.6208 - val_accuracy: 0.8085\n",
            "Epoch 74/100\n",
            "14/14 [==============================] - 0s 4ms/step - loss: 0.3354 - accuracy: 0.9174 - val_loss: 0.6199 - val_accuracy: 0.8085\n",
            "Epoch 75/100\n",
            "14/14 [==============================] - 0s 4ms/step - loss: 0.3459 - accuracy: 0.9266 - val_loss: 0.5390 - val_accuracy: 0.8511\n",
            "Epoch 76/100\n",
            "14/14 [==============================] - 0s 4ms/step - loss: 0.3200 - accuracy: 0.9541 - val_loss: 0.5365 - val_accuracy: 0.8511\n",
            "Epoch 77/100\n",
            "14/14 [==============================] - 0s 4ms/step - loss: 0.3349 - accuracy: 0.9358 - val_loss: 0.5348 - val_accuracy: 0.8298\n",
            "Epoch 78/100\n",
            "14/14 [==============================] - 0s 4ms/step - loss: 0.3270 - accuracy: 0.9358 - val_loss: 0.6149 - val_accuracy: 0.8298\n",
            "Epoch 79/100\n",
            "14/14 [==============================] - 0s 4ms/step - loss: 0.3502 - accuracy: 0.9083 - val_loss: 0.5780 - val_accuracy: 0.8298\n",
            "Epoch 80/100\n",
            "14/14 [==============================] - 0s 4ms/step - loss: 0.3949 - accuracy: 0.8440 - val_loss: 0.5758 - val_accuracy: 0.8085\n",
            "Epoch 81/100\n",
            "14/14 [==============================] - 0s 4ms/step - loss: 0.3621 - accuracy: 0.8899 - val_loss: 0.5433 - val_accuracy: 0.8298\n",
            "Epoch 82/100\n",
            "14/14 [==============================] - 0s 4ms/step - loss: 0.3269 - accuracy: 0.9266 - val_loss: 0.6489 - val_accuracy: 0.8298\n",
            "Epoch 83/100\n",
            "14/14 [==============================] - 0s 4ms/step - loss: 0.4544 - accuracy: 0.8073 - val_loss: 0.5854 - val_accuracy: 0.8085\n",
            "Epoch 84/100\n",
            "14/14 [==============================] - 0s 4ms/step - loss: 0.3009 - accuracy: 0.9450 - val_loss: 0.5391 - val_accuracy: 0.8511\n",
            "Epoch 85/100\n",
            "14/14 [==============================] - 0s 5ms/step - loss: 0.3431 - accuracy: 0.9174 - val_loss: 0.5944 - val_accuracy: 0.7872\n",
            "Epoch 86/100\n",
            "14/14 [==============================] - 0s 4ms/step - loss: 0.5209 - accuracy: 0.7890 - val_loss: 0.5691 - val_accuracy: 0.8298\n",
            "Epoch 87/100\n",
            "14/14 [==============================] - 0s 4ms/step - loss: 0.3188 - accuracy: 0.9541 - val_loss: 0.5559 - val_accuracy: 0.8298\n",
            "Epoch 88/100\n",
            "14/14 [==============================] - 0s 4ms/step - loss: 0.3865 - accuracy: 0.8624 - val_loss: 0.5677 - val_accuracy: 0.8298\n",
            "Epoch 89/100\n",
            "14/14 [==============================] - 0s 5ms/step - loss: 0.3615 - accuracy: 0.8991 - val_loss: 0.5926 - val_accuracy: 0.8085\n",
            "Epoch 90/100\n",
            "14/14 [==============================] - 0s 4ms/step - loss: 0.4158 - accuracy: 0.8349 - val_loss: 0.6317 - val_accuracy: 0.8298\n",
            "Epoch 91/100\n",
            "14/14 [==============================] - 0s 4ms/step - loss: 0.3671 - accuracy: 0.8624 - val_loss: 0.5872 - val_accuracy: 0.8085\n",
            "Epoch 92/100\n",
            "14/14 [==============================] - 0s 4ms/step - loss: 0.3547 - accuracy: 0.9083 - val_loss: 0.6159 - val_accuracy: 0.8085\n",
            "Epoch 93/100\n",
            "14/14 [==============================] - 0s 4ms/step - loss: 0.3685 - accuracy: 0.8716 - val_loss: 0.5796 - val_accuracy: 0.8298\n",
            "Epoch 94/100\n",
            "14/14 [==============================] - 0s 4ms/step - loss: 0.3607 - accuracy: 0.8716 - val_loss: 0.6019 - val_accuracy: 0.8298\n",
            "Epoch 95/100\n",
            "14/14 [==============================] - 0s 4ms/step - loss: 0.4072 - accuracy: 0.8440 - val_loss: 0.6349 - val_accuracy: 0.7660\n",
            "Epoch 96/100\n",
            "14/14 [==============================] - 0s 7ms/step - loss: 0.3923 - accuracy: 0.8257 - val_loss: 0.5700 - val_accuracy: 0.8298\n",
            "Epoch 97/100\n",
            "14/14 [==============================] - 0s 4ms/step - loss: 0.4305 - accuracy: 0.8073 - val_loss: 0.5841 - val_accuracy: 0.8085\n",
            "Epoch 98/100\n",
            "14/14 [==============================] - 0s 4ms/step - loss: 0.3325 - accuracy: 0.9174 - val_loss: 0.5693 - val_accuracy: 0.8511\n",
            "Epoch 99/100\n",
            "14/14 [==============================] - 0s 4ms/step - loss: 0.2953 - accuracy: 0.9450 - val_loss: 0.5796 - val_accuracy: 0.8511\n",
            "Epoch 100/100\n",
            "14/14 [==============================] - 0s 4ms/step - loss: 0.2744 - accuracy: 0.9633 - val_loss: 0.6189 - val_accuracy: 0.8085\n"
          ]
        }
      ],
      "source": [
        "#kernel_regularizer=tf.keras.regularizers.l2(0.1)\n",
        "\n",
        "\n",
        "\n",
        "model = keras.Sequential([\n",
        "    keras.layers.Dense(80, input_dim=60, activation='relu',kernel_regularizer=tf.keras.regularizers.l2(0.2)),\n",
        "    keras.layers.Dense(30, activation='relu'),\n",
        "\n",
        "    keras.layers.Dense(15, activation='relu'),\n",
        "\n",
        "    keras.layers.Dense(1, activation='sigmoid')\n",
        "])\n",
        "\n",
        "model.compile(loss='binary_crossentropy', optimizer='adam', metrics=['accuracy'])\n",
        "\n",
        "H = model.fit(X_train, y_train, epochs=100, batch_size=8, validation_split=0.3)"
      ]
    },
    {
      "cell_type": "code",
      "execution_count": 40,
      "metadata": {
        "colab": {
          "base_uri": "https://localhost:8080/"
        },
        "id": "7Br5MgBy0wct",
        "outputId": "25d96407-cf8e-4468-d1c7-6ae2bb2f08f4"
      },
      "outputs": [
        {
          "name": "stdout",
          "output_type": "stream",
          "text": [
            "2/2 [==============================] - 0s 4ms/step - loss: 0.6524 - accuracy: 0.7500\n",
            "Test Accuracy:  75.0\n"
          ]
        }
      ],
      "source": [
        "loss, acc = model.evaluate(X_test, y_test)\n",
        "print('Test Accuracy: ', acc*100)"
      ]
    },
    {
      "cell_type": "code",
      "execution_count": 41,
      "metadata": {
        "colab": {
          "base_uri": "https://localhost:8080/"
        },
        "id": "IundgYv8Ok-T",
        "outputId": "94350eb7-6357-457f-c98f-cface3ebed19"
      },
      "outputs": [
        {
          "name": "stdout",
          "output_type": "stream",
          "text": [
            "5/5 [==============================] - 0s 2ms/step - loss: 0.3799 - accuracy: 0.9167\n",
            "Train Accuracy:  91.66666865348816\n"
          ]
        }
      ],
      "source": [
        "loss, acc = model.evaluate(X_train, y_train)\n",
        "print('Train Accuracy: ', acc*100)"
      ]
    },
    {
      "cell_type": "code",
      "execution_count": 42,
      "metadata": {
        "colab": {
          "base_uri": "https://localhost:8080/",
          "height": 534
        },
        "id": "TkSwcPDf0wNe",
        "outputId": "9a4a121a-2d25-4d54-bdb9-0203e6c8c63e"
      },
      "outputs": [
        {
          "data": {
            "text/plain": [
              "<matplotlib.legend.Legend at 0x240f3a1d0d0>"
            ]
          },
          "execution_count": 42,
          "metadata": {},
          "output_type": "execute_result"
        },
        {
          "data": {
            "image/png": "[encoded data removed]",
            "text/plain": [
              "<Figure size 1000x800 with 1 Axes>"
            ]
          },
          "metadata": {},
          "output_type": "display_data"
        }
      ],
      "source": [
        "import matplotlib.pyplot as plt\n",
        "\n",
        "\n",
        "epochs = np.arange(0, len(H.history[\"loss\"]))\n",
        "plt.figure(figsize=(10,8))\n",
        "plt.style.use(\"ggplot\")\n",
        "\n",
        "\n",
        "# plot training and validation loss\n",
        "plt.style.use(\"ggplot\")\n",
        "plt.plot(epochs, H.history[\"loss\"], label=\"train_loss\")\n",
        "plt.plot(epochs, H.history[\"val_loss\"], label=\"val_loss\")\n",
        "plt.title(\"Training Vs Validation Loss\")\n",
        "plt.xlabel(\"Epoch #\")\n",
        "plt.ylabel(\"Loss\")\n",
        "plt.legend()"
      ]
    },
    {
      "cell_type": "markdown",
      "metadata": {
        "id": "3bYQI9tEnVCf"
      },
      "source": [
        "## Model with Dropout Layer "
      ]
    },
    {
      "cell_type": "markdown",
      "metadata": {
        "id": "bGyDDQl8SxWH"
      },
      "source": [
        "# Adding dropout and regularization"
      ]
    },
    {
      "cell_type": "code",
      "execution_count": 43,
      "metadata": {
        "colab": {
          "base_uri": "https://localhost:8080/"
        },
        "id": "O6XUc1rITGTT",
        "outputId": "541cfbf6-b134-4ab8-c064-b175be0220d9"
      },
      "outputs": [
        {
          "name": "stdout",
          "output_type": "stream",
          "text": [
            "Epoch 1/100\n",
            "14/14 [==============================] - 1s 17ms/step - loss: 12.8698 - accuracy: 0.5688 - val_loss: 11.4968 - val_accuracy: 0.7021\n",
            "Epoch 2/100\n",
            "14/14 [==============================] - 0s 4ms/step - loss: 10.5140 - accuracy: 0.5780 - val_loss: 9.3652 - val_accuracy: 0.6809\n",
            "Epoch 3/100\n",
            "14/14 [==============================] - 0s 4ms/step - loss: 8.5480 - accuracy: 0.6055 - val_loss: 7.6081 - val_accuracy: 0.6170\n",
            "Epoch 4/100\n",
            "14/14 [==============================] - 0s 4ms/step - loss: 6.9468 - accuracy: 0.5872 - val_loss: 6.1750 - val_accuracy: 0.6809\n",
            "Epoch 5/100\n",
            "14/14 [==============================] - 0s 4ms/step - loss: 5.6398 - accuracy: 0.6606 - val_loss: 5.0196 - val_accuracy: 0.6596\n",
            "Epoch 6/100\n",
            "14/14 [==============================] - 0s 4ms/step - loss: 4.5986 - accuracy: 0.6055 - val_loss: 4.0844 - val_accuracy: 0.6383\n",
            "Epoch 7/100\n",
            "14/14 [==============================] - 0s 4ms/step - loss: 3.7362 - accuracy: 0.6697 - val_loss: 3.3376 - val_accuracy: 0.7021\n",
            "Epoch 8/100\n",
            "14/14 [==============================] - 0s 5ms/step - loss: 3.0680 - accuracy: 0.6881 - val_loss: 2.7407 - val_accuracy: 0.7660\n",
            "Epoch 9/100\n",
            "14/14 [==============================] - 0s 5ms/step - loss: 2.5261 - accuracy: 0.6514 - val_loss: 2.2633 - val_accuracy: 0.7660\n",
            "Epoch 10/100\n",
            "14/14 [==============================] - 0s 4ms/step - loss: 2.1073 - accuracy: 0.6697 - val_loss: 1.8851 - val_accuracy: 0.6596\n",
            "Epoch 11/100\n",
            "14/14 [==============================] - 0s 4ms/step - loss: 1.7573 - accuracy: 0.6881 - val_loss: 1.5880 - val_accuracy: 0.7872\n",
            "Epoch 12/100\n",
            "14/14 [==============================] - 0s 5ms/step - loss: 1.5006 - accuracy: 0.6697 - val_loss: 1.3563 - val_accuracy: 0.8298\n",
            "Epoch 13/100\n",
            "14/14 [==============================] - 0s 5ms/step - loss: 1.2924 - accuracy: 0.7248 - val_loss: 1.1856 - val_accuracy: 0.6383\n",
            "Epoch 14/100\n",
            "14/14 [==============================] - 0s 4ms/step - loss: 1.1338 - accuracy: 0.6606 - val_loss: 1.0313 - val_accuracy: 0.7872\n",
            "Epoch 15/100\n",
            "14/14 [==============================] - 0s 4ms/step - loss: 1.0031 - accuracy: 0.7064 - val_loss: 0.9365 - val_accuracy: 0.8085\n",
            "Epoch 16/100\n",
            "14/14 [==============================] - 0s 4ms/step - loss: 0.8993 - accuracy: 0.7248 - val_loss: 0.8378 - val_accuracy: 0.7872\n",
            "Epoch 17/100\n",
            "14/14 [==============================] - 0s 4ms/step - loss: 0.8330 - accuracy: 0.7339 - val_loss: 0.7706 - val_accuracy: 0.8723\n",
            "Epoch 18/100\n",
            "14/14 [==============================] - 0s 4ms/step - loss: 0.7781 - accuracy: 0.7431 - val_loss: 0.7355 - val_accuracy: 0.7234\n",
            "Epoch 19/100\n",
            "14/14 [==============================] - 0s 4ms/step - loss: 0.7164 - accuracy: 0.7523 - val_loss: 0.6840 - val_accuracy: 0.7447\n",
            "Epoch 20/100\n",
            "14/14 [==============================] - 0s 4ms/step - loss: 0.6959 - accuracy: 0.7339 - val_loss: 0.6571 - val_accuracy: 0.7447\n",
            "Epoch 21/100\n",
            "14/14 [==============================] - 0s 4ms/step - loss: 0.6566 - accuracy: 0.7798 - val_loss: 0.6243 - val_accuracy: 0.8511\n",
            "Epoch 22/100\n",
            "14/14 [==============================] - 0s 4ms/step - loss: 0.6199 - accuracy: 0.7706 - val_loss: 0.6484 - val_accuracy: 0.6809\n",
            "Epoch 23/100\n",
            "14/14 [==============================] - 0s 4ms/step - loss: 0.6594 - accuracy: 0.7064 - val_loss: 0.5853 - val_accuracy: 0.8298\n",
            "Epoch 24/100\n",
            "14/14 [==============================] - 0s 4ms/step - loss: 0.6149 - accuracy: 0.7248 - val_loss: 0.5957 - val_accuracy: 0.8085\n",
            "Epoch 25/100\n",
            "14/14 [==============================] - 0s 7ms/step - loss: 0.6092 - accuracy: 0.7706 - val_loss: 0.5543 - val_accuracy: 0.8085\n",
            "Epoch 26/100\n",
            "14/14 [==============================] - 0s 4ms/step - loss: 0.6844 - accuracy: 0.7064 - val_loss: 0.5943 - val_accuracy: 0.8085\n",
            "Epoch 27/100\n",
            "14/14 [==============================] - 0s 4ms/step - loss: 0.6047 - accuracy: 0.7156 - val_loss: 0.6206 - val_accuracy: 0.7660\n",
            "Epoch 28/100\n",
            "14/14 [==============================] - 0s 4ms/step - loss: 0.6065 - accuracy: 0.7431 - val_loss: 0.6530 - val_accuracy: 0.6809\n",
            "Epoch 29/100\n",
            "14/14 [==============================] - 0s 4ms/step - loss: 0.6000 - accuracy: 0.7064 - val_loss: 0.6313 - val_accuracy: 0.6596\n",
            "Epoch 30/100\n",
            "14/14 [==============================] - 0s 4ms/step - loss: 0.6271 - accuracy: 0.6972 - val_loss: 0.5481 - val_accuracy: 0.8298\n",
            "Epoch 31/100\n",
            "14/14 [==============================] - 0s 4ms/step - loss: 0.5633 - accuracy: 0.7798 - val_loss: 0.6218 - val_accuracy: 0.7447\n",
            "Epoch 32/100\n",
            "14/14 [==============================] - 0s 4ms/step - loss: 0.5540 - accuracy: 0.7982 - val_loss: 0.6126 - val_accuracy: 0.7872\n",
            "Epoch 33/100\n",
            "14/14 [==============================] - 0s 4ms/step - loss: 0.5531 - accuracy: 0.8165 - val_loss: 0.5879 - val_accuracy: 0.8298\n",
            "Epoch 34/100\n",
            "14/14 [==============================] - 0s 4ms/step - loss: 0.5021 - accuracy: 0.8532 - val_loss: 0.5495 - val_accuracy: 0.8298\n",
            "Epoch 35/100\n",
            "14/14 [==============================] - 0s 5ms/step - loss: 0.5421 - accuracy: 0.7798 - val_loss: 0.5291 - val_accuracy: 0.8298\n",
            "Epoch 36/100\n",
            "14/14 [==============================] - 0s 4ms/step - loss: 0.5115 - accuracy: 0.8165 - val_loss: 0.5580 - val_accuracy: 0.8511\n",
            "Epoch 37/100\n",
            "14/14 [==============================] - 0s 4ms/step - loss: 0.4949 - accuracy: 0.8257 - val_loss: 0.6236 - val_accuracy: 0.7872\n",
            "Epoch 38/100\n",
            "14/14 [==============================] - 0s 4ms/step - loss: 0.5539 - accuracy: 0.7982 - val_loss: 0.6054 - val_accuracy: 0.8085\n",
            "Epoch 39/100\n",
            "14/14 [==============================] - 0s 4ms/step - loss: 0.5044 - accuracy: 0.8257 - val_loss: 0.5469 - val_accuracy: 0.8298\n",
            "Epoch 40/100\n",
            "14/14 [==============================] - 0s 4ms/step - loss: 0.5003 - accuracy: 0.8257 - val_loss: 0.5107 - val_accuracy: 0.8085\n",
            "Epoch 41/100\n",
            "14/14 [==============================] - 0s 4ms/step - loss: 0.5134 - accuracy: 0.8165 - val_loss: 0.5299 - val_accuracy: 0.8085\n",
            "Epoch 42/100\n",
            "14/14 [==============================] - 0s 4ms/step - loss: 0.5056 - accuracy: 0.7982 - val_loss: 0.6810 - val_accuracy: 0.6383\n",
            "Epoch 43/100\n",
            "14/14 [==============================] - 0s 4ms/step - loss: 0.6543 - accuracy: 0.6697 - val_loss: 0.5514 - val_accuracy: 0.7660\n",
            "Epoch 44/100\n",
            "14/14 [==============================] - 0s 4ms/step - loss: 0.5448 - accuracy: 0.7890 - val_loss: 0.5855 - val_accuracy: 0.8298\n",
            "Epoch 45/100\n",
            "14/14 [==============================] - 0s 4ms/step - loss: 0.4969 - accuracy: 0.8532 - val_loss: 0.5375 - val_accuracy: 0.8298\n",
            "Epoch 46/100\n",
            "14/14 [==============================] - 0s 4ms/step - loss: 0.4701 - accuracy: 0.8716 - val_loss: 0.5494 - val_accuracy: 0.8298\n",
            "Epoch 47/100\n",
            "14/14 [==============================] - 0s 4ms/step - loss: 0.4772 - accuracy: 0.8532 - val_loss: 0.5257 - val_accuracy: 0.8511\n",
            "Epoch 48/100\n",
            "14/14 [==============================] - 0s 4ms/step - loss: 0.4694 - accuracy: 0.8624 - val_loss: 0.5260 - val_accuracy: 0.8298\n",
            "Epoch 49/100\n",
            "14/14 [==============================] - 0s 4ms/step - loss: 0.4430 - accuracy: 0.8440 - val_loss: 0.5773 - val_accuracy: 0.8085\n",
            "Epoch 50/100\n",
            "14/14 [==============================] - 0s 7ms/step - loss: 0.4485 - accuracy: 0.8349 - val_loss: 0.5109 - val_accuracy: 0.7872\n",
            "Epoch 51/100\n",
            "14/14 [==============================] - 0s 4ms/step - loss: 0.4443 - accuracy: 0.8624 - val_loss: 0.5080 - val_accuracy: 0.8298\n",
            "Epoch 52/100\n",
            "14/14 [==============================] - 0s 4ms/step - loss: 0.4283 - accuracy: 0.8807 - val_loss: 0.5334 - val_accuracy: 0.8298\n",
            "Epoch 53/100\n",
            "14/14 [==============================] - 0s 4ms/step - loss: 0.4110 - accuracy: 0.8991 - val_loss: 0.5398 - val_accuracy: 0.7872\n",
            "Epoch 54/100\n",
            "14/14 [==============================] - 0s 4ms/step - loss: 0.4309 - accuracy: 0.8624 - val_loss: 0.5363 - val_accuracy: 0.7660\n",
            "Epoch 55/100\n",
            "14/14 [==============================] - 0s 4ms/step - loss: 0.5667 - accuracy: 0.7523 - val_loss: 0.5069 - val_accuracy: 0.8085\n",
            "Epoch 56/100\n",
            "14/14 [==============================] - 0s 4ms/step - loss: 0.4707 - accuracy: 0.8349 - val_loss: 0.5183 - val_accuracy: 0.8298\n",
            "Epoch 57/100\n",
            "14/14 [==============================] - 0s 4ms/step - loss: 0.4645 - accuracy: 0.8073 - val_loss: 0.5176 - val_accuracy: 0.7872\n",
            "Epoch 58/100\n",
            "14/14 [==============================] - 0s 4ms/step - loss: 0.4502 - accuracy: 0.8532 - val_loss: 0.5236 - val_accuracy: 0.8511\n",
            "Epoch 59/100\n",
            "14/14 [==============================] - 0s 4ms/step - loss: 0.4324 - accuracy: 0.8532 - val_loss: 0.5386 - val_accuracy: 0.8298\n",
            "Epoch 60/100\n",
            "14/14 [==============================] - 0s 4ms/step - loss: 0.4716 - accuracy: 0.8165 - val_loss: 0.5272 - val_accuracy: 0.8298\n",
            "Epoch 61/100\n",
            "14/14 [==============================] - 0s 4ms/step - loss: 0.4089 - accuracy: 0.8257 - val_loss: 0.5521 - val_accuracy: 0.8298\n",
            "Epoch 62/100\n",
            "14/14 [==============================] - 0s 4ms/step - loss: 0.4467 - accuracy: 0.8440 - val_loss: 0.5414 - val_accuracy: 0.8298\n",
            "Epoch 63/100\n",
            "14/14 [==============================] - 0s 4ms/step - loss: 0.4703 - accuracy: 0.8165 - val_loss: 0.5325 - val_accuracy: 0.8298\n",
            "Epoch 64/100\n",
            "14/14 [==============================] - 0s 4ms/step - loss: 0.4386 - accuracy: 0.8440 - val_loss: 0.5294 - val_accuracy: 0.8298\n",
            "Epoch 65/100\n",
            "14/14 [==============================] - 0s 4ms/step - loss: 0.4695 - accuracy: 0.8257 - val_loss: 0.5515 - val_accuracy: 0.7660\n",
            "Epoch 66/100\n",
            "14/14 [==============================] - 0s 4ms/step - loss: 0.4258 - accuracy: 0.8440 - val_loss: 0.5299 - val_accuracy: 0.8511\n",
            "Epoch 67/100\n",
            "14/14 [==============================] - 0s 4ms/step - loss: 0.3668 - accuracy: 0.9174 - val_loss: 0.5972 - val_accuracy: 0.8085\n",
            "Epoch 68/100\n",
            "14/14 [==============================] - 0s 4ms/step - loss: 0.4066 - accuracy: 0.8899 - val_loss: 0.5364 - val_accuracy: 0.8298\n",
            "Epoch 69/100\n",
            "14/14 [==============================] - 0s 4ms/step - loss: 0.4040 - accuracy: 0.8532 - val_loss: 0.5388 - val_accuracy: 0.8511\n",
            "Epoch 70/100\n",
            "14/14 [==============================] - 0s 4ms/step - loss: 0.3893 - accuracy: 0.8807 - val_loss: 0.5265 - val_accuracy: 0.8298\n",
            "Epoch 71/100\n",
            "14/14 [==============================] - 0s 4ms/step - loss: 0.4115 - accuracy: 0.8532 - val_loss: 0.5138 - val_accuracy: 0.8298\n",
            "Epoch 72/100\n",
            "14/14 [==============================] - 0s 4ms/step - loss: 0.3893 - accuracy: 0.8899 - val_loss: 0.5359 - val_accuracy: 0.8298\n",
            "Epoch 73/100\n",
            "14/14 [==============================] - 0s 4ms/step - loss: 0.3670 - accuracy: 0.8899 - val_loss: 0.6011 - val_accuracy: 0.8298\n",
            "Epoch 74/100\n",
            "14/14 [==============================] - 0s 4ms/step - loss: 0.3950 - accuracy: 0.8624 - val_loss: 0.6033 - val_accuracy: 0.8298\n",
            "Epoch 75/100\n",
            "14/14 [==============================] - 0s 4ms/step - loss: 0.3719 - accuracy: 0.9174 - val_loss: 0.5510 - val_accuracy: 0.8511\n",
            "Epoch 76/100\n",
            "14/14 [==============================] - 0s 5ms/step - loss: 0.3973 - accuracy: 0.8899 - val_loss: 0.5159 - val_accuracy: 0.8511\n",
            "Epoch 77/100\n",
            "14/14 [==============================] - 0s 4ms/step - loss: 0.3783 - accuracy: 0.8624 - val_loss: 0.5735 - val_accuracy: 0.8298\n",
            "Epoch 78/100\n",
            "14/14 [==============================] - 0s 4ms/step - loss: 0.4328 - accuracy: 0.8716 - val_loss: 0.5440 - val_accuracy: 0.8511\n",
            "Epoch 79/100\n",
            "14/14 [==============================] - 0s 4ms/step - loss: 0.6615 - accuracy: 0.6972 - val_loss: 0.6816 - val_accuracy: 0.7234\n",
            "Epoch 80/100\n",
            "14/14 [==============================] - 0s 4ms/step - loss: 0.5315 - accuracy: 0.8349 - val_loss: 0.5195 - val_accuracy: 0.8298\n",
            "Epoch 81/100\n",
            "14/14 [==============================] - 0s 4ms/step - loss: 0.4478 - accuracy: 0.8991 - val_loss: 0.5258 - val_accuracy: 0.8511\n",
            "Epoch 82/100\n",
            "14/14 [==============================] - 0s 4ms/step - loss: 0.4410 - accuracy: 0.8807 - val_loss: 0.5200 - val_accuracy: 0.8723\n",
            "Epoch 83/100\n",
            "14/14 [==============================] - 0s 4ms/step - loss: 0.3994 - accuracy: 0.8899 - val_loss: 0.5702 - val_accuracy: 0.8298\n",
            "Epoch 84/100\n",
            "14/14 [==============================] - 0s 4ms/step - loss: 0.4919 - accuracy: 0.8073 - val_loss: 0.5486 - val_accuracy: 0.8298\n",
            "Epoch 85/100\n",
            "14/14 [==============================] - 0s 4ms/step - loss: 0.5976 - accuracy: 0.7615 - val_loss: 0.6600 - val_accuracy: 0.7660\n",
            "Epoch 86/100\n",
            "14/14 [==============================] - 0s 4ms/step - loss: 0.5960 - accuracy: 0.7615 - val_loss: 0.5459 - val_accuracy: 0.8298\n",
            "Epoch 87/100\n",
            "14/14 [==============================] - 0s 4ms/step - loss: 0.5281 - accuracy: 0.7982 - val_loss: 0.5301 - val_accuracy: 0.8511\n",
            "Epoch 88/100\n",
            "14/14 [==============================] - 0s 4ms/step - loss: 0.4174 - accuracy: 0.8624 - val_loss: 0.5581 - val_accuracy: 0.7872\n",
            "Epoch 89/100\n",
            "14/14 [==============================] - 0s 5ms/step - loss: 0.4449 - accuracy: 0.8624 - val_loss: 0.4994 - val_accuracy: 0.8511\n",
            "Epoch 90/100\n",
            "14/14 [==============================] - 0s 4ms/step - loss: 0.3884 - accuracy: 0.9174 - val_loss: 0.5512 - val_accuracy: 0.8298\n",
            "Epoch 91/100\n",
            "14/14 [==============================] - 0s 4ms/step - loss: 0.3849 - accuracy: 0.9083 - val_loss: 0.5374 - val_accuracy: 0.8298\n",
            "Epoch 92/100\n",
            "14/14 [==============================] - 0s 4ms/step - loss: 0.3445 - accuracy: 0.9174 - val_loss: 0.5472 - val_accuracy: 0.8298\n",
            "Epoch 93/100\n",
            "14/14 [==============================] - 0s 4ms/step - loss: 0.3758 - accuracy: 0.8716 - val_loss: 0.5444 - val_accuracy: 0.8298\n",
            "Epoch 94/100\n",
            "14/14 [==============================] - 0s 4ms/step - loss: 0.3500 - accuracy: 0.8991 - val_loss: 0.5573 - val_accuracy: 0.8085\n",
            "Epoch 95/100\n",
            "14/14 [==============================] - 0s 4ms/step - loss: 0.3693 - accuracy: 0.9174 - val_loss: 0.5004 - val_accuracy: 0.8298\n",
            "Epoch 96/100\n",
            "14/14 [==============================] - 0s 4ms/step - loss: 0.3702 - accuracy: 0.8807 - val_loss: 0.5354 - val_accuracy: 0.8085\n",
            "Epoch 97/100\n",
            "14/14 [==============================] - 0s 4ms/step - loss: 0.4096 - accuracy: 0.8440 - val_loss: 0.5086 - val_accuracy: 0.8511\n",
            "Epoch 98/100\n",
            "14/14 [==============================] - 0s 4ms/step - loss: 0.3613 - accuracy: 0.8991 - val_loss: 0.5580 - val_accuracy: 0.8298\n",
            "Epoch 99/100\n",
            "14/14 [==============================] - 0s 5ms/step - loss: 0.3071 - accuracy: 0.9450 - val_loss: 0.5687 - val_accuracy: 0.8298\n",
            "Epoch 100/100\n",
            "14/14 [==============================] - 0s 4ms/step - loss: 0.3321 - accuracy: 0.9174 - val_loss: 0.5536 - val_accuracy: 0.8298\n"
          ]
        }
      ],
      "source": [
        "\n",
        "model = keras.Sequential([\n",
        "    keras.layers.Dense(80, input_dim=60, activation='relu',kernel_regularizer=tf.keras.regularizers.l2(0.2)),\n",
        "    keras.layers.Dropout(0.1),\n",
        "    keras.layers.Dense(30, activation='relu'),\n",
        "\n",
        "    keras.layers.Dense(15, activation='relu'),\n",
        "    keras.layers.Dropout(0.1),\n",
        "    keras.layers.Dense(1, activation='sigmoid')\n",
        "])\n",
        "\n",
        "model.compile(loss='binary_crossentropy', optimizer='adam', metrics=['accuracy'])\n",
        "\n",
        "H = model.fit(X_train, y_train, epochs=100, batch_size=8, validation_split=0.3)"
      ]
    },
    {
      "cell_type": "code",
      "execution_count": 44,
      "metadata": {
        "colab": {
          "base_uri": "https://localhost:8080/"
        },
        "id": "pCEbtP13TPIc",
        "outputId": "3503d5bf-b979-4aee-da86-c918aed87fe1"
      },
      "outputs": [
        {
          "name": "stdout",
          "output_type": "stream",
          "text": [
            "2/2 [==============================] - 0s 4ms/step - loss: 0.6096 - accuracy: 0.7692\n",
            "Test Accuracy:  76.92307829856873\n"
          ]
        }
      ],
      "source": [
        "loss, acc = model.evaluate(X_test, y_test)\n",
        "print('Test Accuracy: ', acc*100)"
      ]
    },
    {
      "cell_type": "code",
      "execution_count": 45,
      "metadata": {
        "colab": {
          "base_uri": "https://localhost:8080/"
        },
        "id": "uRjmzT3sTRv8",
        "outputId": "35a3dffe-d69c-4fcd-9edb-00613cf7b242"
      },
      "outputs": [
        {
          "name": "stdout",
          "output_type": "stream",
          "text": [
            "5/5 [==============================] - 0s 3ms/step - loss: 0.3550 - accuracy: 0.9231\n",
            "Train Accuracy:  92.30769276618958\n"
          ]
        }
      ],
      "source": [
        "loss, acc = model.evaluate(X_train, y_train)\n",
        "print('Train Accuracy: ', acc*100)"
      ]
    },
    {
      "cell_type": "code",
      "execution_count": 46,
      "metadata": {
        "colab": {
          "base_uri": "https://localhost:8080/",
          "height": 534
        },
        "id": "C3ta_WAOTUhX",
        "outputId": "c7807d8d-df29-4ae3-f4fb-0cf5ba43d965"
      },
      "outputs": [
        {
          "data": {
            "text/plain": [
              "<matplotlib.legend.Legend at 0x240ea1fc8d0>"
            ]
          },
          "execution_count": 46,
          "metadata": {},
          "output_type": "execute_result"
        },
        {
          "data": {
            "image/png": "[encoded data removed]",
            "text/plain": [
              "<Figure size 1000x800 with 1 Axes>"
            ]
          },
          "metadata": {},
          "output_type": "display_data"
        }
      ],
      "source": [
        "import matplotlib.pyplot as plt\n",
        "\n",
        "\n",
        "epochs = np.arange(0, len(H.history[\"loss\"]))\n",
        "plt.figure(figsize=(10,8))\n",
        "plt.style.use(\"ggplot\")\n",
        "\n",
        "\n",
        "# plot training and validation loss\n",
        "plt.style.use(\"ggplot\")\n",
        "plt.plot(epochs, H.history[\"loss\"], label=\"train_loss\")\n",
        "plt.plot(epochs, H.history[\"val_loss\"], label=\"val_loss\")\n",
        "plt.title(\"Training Vs Validation Loss\")\n",
        "plt.xlabel(\"Epoch #\")\n",
        "plt.ylabel(\"Loss\")\n",
        "plt.legend()"
      ]
    },
    {
      "cell_type": "markdown",
      "metadata": {
        "id": "6ndvTCMITxqn"
      },
      "source": [
        "# Early Stopping"
      ]
    },
    {
      "cell_type": "code",
      "execution_count": 48,
      "metadata": {
        "colab": {
          "base_uri": "https://localhost:8080/"
        },
        "id": "zGOnf7boTh1i",
        "outputId": "66192936-ca27-490b-a183-61e32b96d1b6"
      },
      "outputs": [
        {
          "name": "stdout",
          "output_type": "stream",
          "text": [
            "Epoch 1/100\n",
            "14/14 [==============================] - 1s 20ms/step - loss: 13.2667 - accuracy: 0.5688 - val_loss: 11.8921 - val_accuracy: 0.5319\n",
            "Epoch 2/100\n",
            "14/14 [==============================] - 0s 5ms/step - loss: 10.8799 - accuracy: 0.5413 - val_loss: 9.7158 - val_accuracy: 0.5319\n",
            "Epoch 3/100\n",
            "14/14 [==============================] - 0s 4ms/step - loss: 8.8674 - accuracy: 0.5505 - val_loss: 7.9120 - val_accuracy: 0.5319\n",
            "Epoch 4/100\n",
            "14/14 [==============================] - 0s 5ms/step - loss: 7.2231 - accuracy: 0.5505 - val_loss: 6.4378 - val_accuracy: 0.5319\n",
            "Epoch 5/100\n",
            "14/14 [==============================] - 0s 5ms/step - loss: 5.8825 - accuracy: 0.5872 - val_loss: 5.2403 - val_accuracy: 0.6383\n",
            "Epoch 6/100\n",
            "14/14 [==============================] - 0s 5ms/step - loss: 4.7927 - accuracy: 0.6239 - val_loss: 4.2769 - val_accuracy: 0.5532\n",
            "Epoch 7/100\n",
            "14/14 [==============================] - 0s 5ms/step - loss: 3.9141 - accuracy: 0.5963 - val_loss: 3.4978 - val_accuracy: 0.6809\n",
            "Epoch 8/100\n",
            "14/14 [==============================] - 0s 5ms/step - loss: 3.2114 - accuracy: 0.6514 - val_loss: 2.8738 - val_accuracy: 0.6383\n",
            "Epoch 9/100\n",
            "14/14 [==============================] - 0s 5ms/step - loss: 2.6414 - accuracy: 0.6606 - val_loss: 2.3790 - val_accuracy: 0.5745\n",
            "Epoch 10/100\n",
            "14/14 [==============================] - 0s 8ms/step - loss: 2.2001 - accuracy: 0.6697 - val_loss: 1.9838 - val_accuracy: 0.7447\n",
            "Epoch 11/100\n",
            "14/14 [==============================] - 0s 4ms/step - loss: 1.8472 - accuracy: 0.6606 - val_loss: 1.6700 - val_accuracy: 0.6809\n",
            "Epoch 12/100\n",
            "14/14 [==============================] - 0s 4ms/step - loss: 1.5552 - accuracy: 0.7339 - val_loss: 1.4260 - val_accuracy: 0.5957\n",
            "Epoch 13/100\n",
            "14/14 [==============================] - 0s 4ms/step - loss: 1.3509 - accuracy: 0.7156 - val_loss: 1.2311 - val_accuracy: 0.7234\n",
            "Epoch 14/100\n",
            "14/14 [==============================] - 0s 5ms/step - loss: 1.1816 - accuracy: 0.6881 - val_loss: 1.0796 - val_accuracy: 0.7660\n",
            "Epoch 15/100\n",
            "14/14 [==============================] - 0s 4ms/step - loss: 1.0445 - accuracy: 0.7339 - val_loss: 0.9707 - val_accuracy: 0.7872\n",
            "Epoch 16/100\n",
            "14/14 [==============================] - 0s 5ms/step - loss: 0.9413 - accuracy: 0.7156 - val_loss: 0.9005 - val_accuracy: 0.5745\n",
            "Epoch 17/100\n",
            "14/14 [==============================] - 0s 4ms/step - loss: 0.8877 - accuracy: 0.6606 - val_loss: 0.8413 - val_accuracy: 0.5745\n",
            "Epoch 18/100\n",
            "14/14 [==============================] - 0s 4ms/step - loss: 0.7971 - accuracy: 0.6972 - val_loss: 0.7507 - val_accuracy: 0.8085\n",
            "Epoch 19/100\n",
            "14/14 [==============================] - 0s 5ms/step - loss: 0.7346 - accuracy: 0.7156 - val_loss: 0.7021 - val_accuracy: 0.8298\n",
            "Epoch 20/100\n",
            "14/14 [==============================] - 0s 5ms/step - loss: 0.6915 - accuracy: 0.7523 - val_loss: 0.6669 - val_accuracy: 0.8085\n",
            "Epoch 21/100\n",
            "14/14 [==============================] - 0s 5ms/step - loss: 0.6830 - accuracy: 0.7248 - val_loss: 0.6574 - val_accuracy: 0.7872\n",
            "Epoch 22/100\n",
            "14/14 [==============================] - 0s 5ms/step - loss: 0.6583 - accuracy: 0.6881 - val_loss: 0.6296 - val_accuracy: 0.7447\n",
            "Epoch 23/100\n",
            "14/14 [==============================] - 0s 6ms/step - loss: 0.6595 - accuracy: 0.6789 - val_loss: 0.6103 - val_accuracy: 0.7872\n",
            "Epoch 24/100\n",
            "14/14 [==============================] - 0s 7ms/step - loss: 0.5987 - accuracy: 0.7798 - val_loss: 0.6506 - val_accuracy: 0.7021\n",
            "Epoch 24: early stopping\n"
          ]
        }
      ],
      "source": [
        "\n",
        "\n",
        "\n",
        "\n",
        "model = keras.Sequential([\n",
        "    keras.layers.Dense(80, input_dim=60, activation='relu',kernel_regularizer=tf.keras.regularizers.l2(0.2)),\n",
        "    keras.layers.Dropout(0.1),\n",
        "    keras.layers.Dense(30, activation='relu'),\n",
        "\n",
        "    keras.layers.Dense(15, activation='relu'),\n",
        "    keras.layers.Dropout(0.1),\n",
        "    keras.layers.Dense(1, activation='sigmoid')\n",
        "])\n",
        "\n",
        "model.compile(loss='binary_crossentropy', optimizer='adam', metrics=['accuracy'])\n",
        "\n",
        "H = model.fit(X_train, y_train, epochs=100, batch_size=8, validation_split=0.3,callbacks=tf.keras.callbacks.EarlyStopping(monitor='val_accuracy',verbose=1, patience=5)\n",
        ")\n"
      ]
    },
    {
      "cell_type": "code",
      "execution_count": 49,
      "metadata": {
        "colab": {
          "base_uri": "https://localhost:8080/"
        },
        "id": "hSeDNKgqVngz",
        "outputId": "913c6b86-6425-42ce-b9e4-e45248df7b7a"
      },
      "outputs": [
        {
          "name": "stdout",
          "output_type": "stream",
          "text": [
            "2/2 [==============================] - 0s 5ms/step - loss: 0.6462 - accuracy: 0.7115\n",
            "Test Accuracy:  71.15384340286255\n"
          ]
        }
      ],
      "source": [
        "\n",
        "loss, acc=model.evaluate(X_test, y_test)\n",
        "print('Test Accuracy: ', acc*100)"
      ]
    },
    {
      "cell_type": "code",
      "execution_count": 50,
      "metadata": {
        "colab": {
          "base_uri": "https://localhost:8080/"
        },
        "id": "cmWTHvBfYdKe",
        "outputId": "64b14921-4c08-4da8-b176-fbc3d1cbd032"
      },
      "outputs": [
        {
          "name": "stdout",
          "output_type": "stream",
          "text": [
            "5/5 [==============================] - 0s 2ms/step - loss: 0.6185 - accuracy: 0.7244\n",
            "Training Accuracy:  72.43589758872986\n"
          ]
        }
      ],
      "source": [
        "\n",
        "loss, acc = model.evaluate(X_train, y_train)\n",
        "print('Training Accuracy: ', acc*100)"
      ]
    },
    {
      "cell_type": "code",
      "execution_count": 51,
      "metadata": {
        "colab": {
          "base_uri": "https://localhost:8080/",
          "height": 534
        },
        "id": "xKsDAiacYia3",
        "outputId": "f278e120-d796-4fe9-d935-6812a98fb968"
      },
      "outputs": [
        {
          "data": {
            "text/plain": [
              "<matplotlib.legend.Legend at 0x240f1583e10>"
            ]
          },
          "execution_count": 51,
          "metadata": {},
          "output_type": "execute_result"
        },
        {
          "data": {
            "image/png": "[encoded data removed]",
            "text/plain": [
              "<Figure size 1000x800 with 1 Axes>"
            ]
          },
          "metadata": {},
          "output_type": "display_data"
        }
      ],
      "source": [
        "\n",
        "import matplotlib.pyplot as plt\n",
        "\n",
        "\n",
        "epochs = np.arange(0, len(H.history[\"loss\"]))\n",
        "plt.figure(figsize=(10,8))\n",
        "plt.style.use(\"ggplot\")\n",
        "# (fig, axs) = plt.subplots(2, 1)\n",
        "# plot the *unshifted* training and validation loss\n",
        "plt.style.use(\"ggplot\")\n",
        "plt.plot(epochs, H.history[\"loss\"], label=\"train_loss\")\n",
        "plt.plot(epochs, H.history[\"val_loss\"], label=\"val_loss\")\n",
        "plt.title(\"Training Vs Validation Loss\")\n",
        "plt.xlabel(\"Epoch #\")\n",
        "plt.ylabel(\"Loss\")\n",
        "plt.legend()"
      ]
    },
    {
      "cell_type": "markdown",
      "metadata": {},
      "source": [
        "# model Checkpoint"
      ]
    },
    {
      "cell_type": "code",
      "execution_count": 52,
      "metadata": {
        "colab": {
          "base_uri": "https://localhost:8080/"
        },
        "id": "-6KysNr_Yldb",
        "outputId": "f2eab836-5463-41a9-9232-95ef7136e29a"
      },
      "outputs": [
        {
          "name": "stdout",
          "output_type": "stream",
          "text": [
            "Epoch 1/100\n",
            " 1/14 [=>............................] - ETA: 12s - loss: 0.6702 - accuracy: 0.6250\n",
            "Epoch 1: val_loss improved from inf to 0.69019, saving model to SOMETHINGELSE\n",
            "INFO:tensorflow:Assets written to: SOMETHINGELSE\\assets\n"
          ]
        },
        {
          "name": "stderr",
          "output_type": "stream",
          "text": [
            "INFO:tensorflow:Assets written to: SOMETHINGELSE\\assets\n"
          ]
        },
        {
          "name": "stdout",
          "output_type": "stream",
          "text": [
            "14/14 [==============================] - 2s 61ms/step - loss: 0.7185 - accuracy: 0.4587 - val_loss: 0.6902 - val_accuracy: 0.5532\n",
            "Epoch 2/100\n",
            " 1/14 [=>............................] - ETA: 0s - loss: 0.6715 - accuracy: 0.7500\n",
            "Epoch 2: val_loss improved from 0.69019 to 0.68034, saving model to SOMETHINGELSE\n",
            "INFO:tensorflow:Assets written to: SOMETHINGELSE\\assets\n"
          ]
        },
        {
          "name": "stderr",
          "output_type": "stream",
          "text": [
            "INFO:tensorflow:Assets written to: SOMETHINGELSE\\assets\n"
          ]
        },
        {
          "name": "stdout",
          "output_type": "stream",
          "text": [
            "14/14 [==============================] - 1s 71ms/step - loss: 0.6807 - accuracy: 0.6881 - val_loss: 0.6803 - val_accuracy: 0.6383\n",
            "Epoch 3/100\n",
            " 1/14 [=>............................] - ETA: 0s - loss: 0.6856 - accuracy: 0.5000\n",
            "Epoch 3: val_loss improved from 0.68034 to 0.66494, saving model to SOMETHINGELSE\n",
            "INFO:tensorflow:Assets written to: SOMETHINGELSE\\assets\n"
          ]
        },
        {
          "name": "stderr",
          "output_type": "stream",
          "text": [
            "INFO:tensorflow:Assets written to: SOMETHINGELSE\\assets\n"
          ]
        },
        {
          "name": "stdout",
          "output_type": "stream",
          "text": [
            "14/14 [==============================] - 1s 62ms/step - loss: 0.6722 - accuracy: 0.5963 - val_loss: 0.6649 - val_accuracy: 0.6809\n",
            "Epoch 4/100\n",
            " 1/14 [=>............................] - ETA: 0s - loss: 0.6320 - accuracy: 0.8750\n",
            "Epoch 4: val_loss improved from 0.66494 to 0.64198, saving model to SOMETHINGELSE\n",
            "INFO:tensorflow:Assets written to: SOMETHINGELSE\\assets\n"
          ]
        },
        {
          "name": "stderr",
          "output_type": "stream",
          "text": [
            "INFO:tensorflow:Assets written to: SOMETHINGELSE\\assets\n"
          ]
        },
        {
          "name": "stdout",
          "output_type": "stream",
          "text": [
            "14/14 [==============================] - 1s 53ms/step - loss: 0.6539 - accuracy: 0.7339 - val_loss: 0.6420 - val_accuracy: 0.8511\n",
            "Epoch 5/100\n",
            " 1/14 [=>............................] - ETA: 0s - loss: 0.6131 - accuracy: 1.0000\n",
            "Epoch 5: val_loss improved from 0.64198 to 0.61385, saving model to SOMETHINGELSE\n",
            "INFO:tensorflow:Assets written to: SOMETHINGELSE\\assets\n"
          ]
        },
        {
          "name": "stderr",
          "output_type": "stream",
          "text": [
            "INFO:tensorflow:Assets written to: SOMETHINGELSE\\assets\n"
          ]
        },
        {
          "name": "stdout",
          "output_type": "stream",
          "text": [
            "14/14 [==============================] - 1s 52ms/step - loss: 0.6343 - accuracy: 0.7890 - val_loss: 0.6138 - val_accuracy: 0.8085\n",
            "Epoch 6/100\n",
            " 1/14 [=>............................] - ETA: 0s - loss: 0.6023 - accuracy: 0.8750\n",
            "Epoch 6: val_loss improved from 0.61385 to 0.57489, saving model to SOMETHINGELSE\n",
            "INFO:tensorflow:Assets written to: SOMETHINGELSE\\assets\n"
          ]
        },
        {
          "name": "stderr",
          "output_type": "stream",
          "text": [
            "INFO:tensorflow:Assets written to: SOMETHINGELSE\\assets\n"
          ]
        },
        {
          "name": "stdout",
          "output_type": "stream",
          "text": [
            "14/14 [==============================] - 1s 59ms/step - loss: 0.6227 - accuracy: 0.7156 - val_loss: 0.5749 - val_accuracy: 0.7872\n",
            "Epoch 7/100\n",
            " 1/14 [=>............................] - ETA: 0s - loss: 0.5205 - accuracy: 1.0000\n",
            "Epoch 7: val_loss improved from 0.57489 to 0.55989, saving model to SOMETHINGELSE\n",
            "INFO:tensorflow:Assets written to: SOMETHINGELSE\\assets\n"
          ]
        },
        {
          "name": "stderr",
          "output_type": "stream",
          "text": [
            "INFO:tensorflow:Assets written to: SOMETHINGELSE\\assets\n"
          ]
        },
        {
          "name": "stdout",
          "output_type": "stream",
          "text": [
            "14/14 [==============================] - 1s 53ms/step - loss: 0.5785 - accuracy: 0.7706 - val_loss: 0.5599 - val_accuracy: 0.7021\n",
            "Epoch 8/100\n",
            " 1/14 [=>............................] - ETA: 0s - loss: 0.6060 - accuracy: 0.6250\n",
            "Epoch 8: val_loss improved from 0.55989 to 0.50457, saving model to SOMETHINGELSE\n",
            "INFO:tensorflow:Assets written to: SOMETHINGELSE\\assets\n"
          ]
        },
        {
          "name": "stderr",
          "output_type": "stream",
          "text": [
            "INFO:tensorflow:Assets written to: SOMETHINGELSE\\assets\n"
          ]
        },
        {
          "name": "stdout",
          "output_type": "stream",
          "text": [
            "14/14 [==============================] - 1s 52ms/step - loss: 0.5479 - accuracy: 0.7706 - val_loss: 0.5046 - val_accuracy: 0.8298\n",
            "Epoch 9/100\n",
            " 1/14 [=>............................] - ETA: 0s - loss: 0.5604 - accuracy: 0.7500\n",
            "Epoch 9: val_loss improved from 0.50457 to 0.47185, saving model to SOMETHINGELSE\n",
            "INFO:tensorflow:Assets written to: SOMETHINGELSE\\assets\n"
          ]
        },
        {
          "name": "stderr",
          "output_type": "stream",
          "text": [
            "INFO:tensorflow:Assets written to: SOMETHINGELSE\\assets\n"
          ]
        },
        {
          "name": "stdout",
          "output_type": "stream",
          "text": [
            "14/14 [==============================] - 1s 81ms/step - loss: 0.5148 - accuracy: 0.7431 - val_loss: 0.4719 - val_accuracy: 0.8298\n",
            "Epoch 10/100\n",
            " 1/14 [=>............................] - ETA: 0s - loss: 0.6140 - accuracy: 0.7500\n",
            "Epoch 10: val_loss improved from 0.47185 to 0.44996, saving model to SOMETHINGELSE\n",
            "INFO:tensorflow:Assets written to: SOMETHINGELSE\\assets\n"
          ]
        },
        {
          "name": "stderr",
          "output_type": "stream",
          "text": [
            "INFO:tensorflow:Assets written to: SOMETHINGELSE\\assets\n"
          ]
        },
        {
          "name": "stdout",
          "output_type": "stream",
          "text": [
            "14/14 [==============================] - 1s 56ms/step - loss: 0.4842 - accuracy: 0.7890 - val_loss: 0.4500 - val_accuracy: 0.8298\n",
            "Epoch 11/100\n",
            " 1/14 [=>............................] - ETA: 0s - loss: 0.5553 - accuracy: 0.7500\n",
            "Epoch 11: val_loss improved from 0.44996 to 0.43498, saving model to SOMETHINGELSE\n",
            "INFO:tensorflow:Assets written to: SOMETHINGELSE\\assets\n"
          ]
        },
        {
          "name": "stderr",
          "output_type": "stream",
          "text": [
            "INFO:tensorflow:Assets written to: SOMETHINGELSE\\assets\n"
          ]
        },
        {
          "name": "stdout",
          "output_type": "stream",
          "text": [
            "14/14 [==============================] - 1s 63ms/step - loss: 0.4452 - accuracy: 0.8716 - val_loss: 0.4350 - val_accuracy: 0.8298\n",
            "Epoch 12/100\n",
            " 1/14 [=>............................] - ETA: 0s - loss: 0.3388 - accuracy: 0.8750\n",
            "Epoch 12: val_loss did not improve from 0.43498\n",
            "14/14 [==============================] - 0s 6ms/step - loss: 0.4060 - accuracy: 0.8716 - val_loss: 0.4402 - val_accuracy: 0.8085\n",
            "Epoch 13/100\n",
            " 1/14 [=>............................] - ETA: 0s - loss: 0.5215 - accuracy: 0.6250\n",
            "Epoch 13: val_loss improved from 0.43498 to 0.41320, saving model to SOMETHINGELSE\n",
            "INFO:tensorflow:Assets written to: SOMETHINGELSE\\assets\n"
          ]
        },
        {
          "name": "stderr",
          "output_type": "stream",
          "text": [
            "INFO:tensorflow:Assets written to: SOMETHINGELSE\\assets\n"
          ]
        },
        {
          "name": "stdout",
          "output_type": "stream",
          "text": [
            "14/14 [==============================] - 1s 54ms/step - loss: 0.3864 - accuracy: 0.8532 - val_loss: 0.4132 - val_accuracy: 0.8298\n",
            "Epoch 14/100\n",
            " 1/14 [=>............................] - ETA: 0s - loss: 0.3873 - accuracy: 0.8750\n",
            "Epoch 14: val_loss improved from 0.41320 to 0.40426, saving model to SOMETHINGELSE\n",
            "INFO:tensorflow:Assets written to: SOMETHINGELSE\\assets\n"
          ]
        },
        {
          "name": "stderr",
          "output_type": "stream",
          "text": [
            "INFO:tensorflow:Assets written to: SOMETHINGELSE\\assets\n"
          ]
        },
        {
          "name": "stdout",
          "output_type": "stream",
          "text": [
            "14/14 [==============================] - 1s 53ms/step - loss: 0.3620 - accuracy: 0.8440 - val_loss: 0.4043 - val_accuracy: 0.8085\n",
            "Epoch 15/100\n",
            " 1/14 [=>............................] - ETA: 0s - loss: 0.3861 - accuracy: 0.6250\n",
            "Epoch 15: val_loss improved from 0.40426 to 0.38844, saving model to SOMETHINGELSE\n",
            "INFO:tensorflow:Assets written to: SOMETHINGELSE\\assets\n"
          ]
        },
        {
          "name": "stderr",
          "output_type": "stream",
          "text": [
            "INFO:tensorflow:Assets written to: SOMETHINGELSE\\assets\n"
          ]
        },
        {
          "name": "stdout",
          "output_type": "stream",
          "text": [
            "14/14 [==============================] - 1s 56ms/step - loss: 0.4028 - accuracy: 0.8257 - val_loss: 0.3884 - val_accuracy: 0.8298\n",
            "Epoch 16/100\n",
            " 1/14 [=>............................] - ETA: 0s - loss: 0.3447 - accuracy: 0.8750\n",
            "Epoch 16: val_loss did not improve from 0.38844\n",
            "14/14 [==============================] - 0s 5ms/step - loss: 0.3614 - accuracy: 0.8073 - val_loss: 0.4608 - val_accuracy: 0.7872\n",
            "Epoch 17/100\n",
            " 1/14 [=>............................] - ETA: 0s - loss: 0.4598 - accuracy: 0.7500\n",
            "Epoch 17: val_loss did not improve from 0.38844\n",
            "14/14 [==============================] - 0s 5ms/step - loss: 0.3249 - accuracy: 0.8991 - val_loss: 0.3941 - val_accuracy: 0.8085\n",
            "Epoch 18/100\n",
            " 1/14 [=>............................] - ETA: 0s - loss: 0.2219 - accuracy: 1.0000\n",
            "Epoch 18: val_loss did not improve from 0.38844\n",
            "14/14 [==============================] - 0s 5ms/step - loss: 0.3103 - accuracy: 0.8807 - val_loss: 0.5432 - val_accuracy: 0.7234\n",
            "Epoch 19/100\n",
            " 1/14 [=>............................] - ETA: 0s - loss: 0.5583 - accuracy: 0.6250\n",
            "Epoch 19: val_loss did not improve from 0.38844\n",
            "14/14 [==============================] - 0s 5ms/step - loss: 0.3195 - accuracy: 0.8624 - val_loss: 0.4392 - val_accuracy: 0.8298\n",
            "Epoch 20/100\n",
            " 1/14 [=>............................] - ETA: 0s - loss: 0.3693 - accuracy: 0.8750\n",
            "Epoch 20: val_loss did not improve from 0.38844\n",
            "14/14 [==============================] - 0s 5ms/step - loss: 0.2843 - accuracy: 0.9174 - val_loss: 0.4356 - val_accuracy: 0.8298\n",
            "Epoch 20: early stopping\n"
          ]
        }
      ],
      "source": [
        "\n",
        "from tensorflow.keras.callbacks import ModelCheckpoint\n",
        "\n",
        "model = keras.Sequential([\n",
        "keras.layers.Dense(80, input_dim=60, activation='relu'),\n",
        "keras.layers.Dense(30, activation='relu'),\n",
        "keras.layers.Dense(15, activation='relu'),\n",
        "keras.layers.Dense(1, activation='sigmoid')\n",
        "])\n",
        "\n",
        "model.compile(loss='binary_crossentropy', optimizer='adam', metrics=['accuracy'])\n",
        "\n",
        "checkpoint = ModelCheckpoint('SOMETHINGELSE', monitor=\"val_loss\", mode=\"min\",\n",
        "\tsave_best_only=True, verbose=1),\n",
        "earlystopping = tf.keras.callbacks.EarlyStopping(monitor='val_loss',verbose=1, patience=5)\n",
        "callbacks = [checkpoint,earlystopping]\n",
        "\n",
        "\n",
        "H = model.fit(X_train, y_train, epochs=100, batch_size=8, validation_split=0.3,callbacks=callbacks) \n"
      ]
    },
    {
      "cell_type": "code",
      "execution_count": 53,
      "metadata": {
        "colab": {
          "base_uri": "https://localhost:8080/"
        },
        "id": "YEzcmMH8nxMU",
        "outputId": "93e9fa27-f40e-46e9-fe10-15b86ce47670"
      },
      "outputs": [
        {
          "name": "stdout",
          "output_type": "stream",
          "text": [
            "2/2 [==============================] - 0s 4ms/step - loss: 0.4692 - accuracy: 0.7308\n",
            "Test Accuracy:  73.07692170143127\n"
          ]
        }
      ],
      "source": [
        "\n",
        "loss, acc=model.evaluate(X_test, y_test)\n",
        "print('Test Accuracy: ', acc*100)"
      ]
    },
    {
      "cell_type": "markdown",
      "metadata": {
        "id": "SKuTOQUvn2QR"
      },
      "source": [
        "#Load best weight"
      ]
    },
    {
      "cell_type": "code",
      "execution_count": 54,
      "metadata": {
        "colab": {
          "base_uri": "https://localhost:8080/"
        },
        "id": "ltNGj0hTjk2n",
        "outputId": "b553f008-0a32-4e5f-b829-33427a516b22"
      },
      "outputs": [
        {
          "name": "stdout",
          "output_type": "stream",
          "text": [
            "2/2 [==============================] - 0s 4ms/step - loss: 0.4684 - accuracy: 0.7308\n",
            "[0.4684184193611145, 0.7307692170143127]\n"
          ]
        }
      ],
      "source": [
        "model = keras.Sequential([\n",
        "keras.layers.Dense(80, input_dim=60, activation='relu'),\n",
        "keras.layers.Dense(30, activation='relu'),\n",
        "keras.layers.Dense(15, activation='relu'),\n",
        "keras.layers.Dense(1, activation='sigmoid')\n",
        "])\n",
        "\n",
        "model.compile(loss='binary_crossentropy', optimizer='adam', metrics=['accuracy'])\n",
        "\n",
        "\n",
        "\n",
        "\n",
        "\n",
        "model.load_weights(\"SOMETHINGELSE\")\n",
        "print(model.evaluate(X_test, y_test))\n",
        "\n"
      ]
    }
  ],
  "metadata": {
    "colab": {
      "provenance": []
    },
    "kernelspec": {
      "display_name": "Python 3",
      "language": "python",
      "name": "python3"
    },
    "language_info": {
      "codemirror_mode": {
        "name": "ipython",
        "version": 3
      },
      "file_extension": ".py",
      "mimetype": "text/x-python",
      "name": "python",
      "nbconvert_exporter": "python",
      "pygments_lexer": "ipython3",
      "version": "3.11.4"
    }
  },
  "nbformat": 4,
  "nbformat_minor": 0
}
